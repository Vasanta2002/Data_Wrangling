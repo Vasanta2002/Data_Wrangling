{
  "nbformat": 4,
  "nbformat_minor": 0,
  "metadata": {
    "colab": {
      "provenance": [],
      "include_colab_link": true
    },
    "kernelspec": {
      "name": "python3",
      "display_name": "Python 3"
    }
  },
  "cells": [
    {
      "cell_type": "markdown",
      "metadata": {
        "id": "view-in-github",
        "colab_type": "text"
      },
      "source": [
        "<a href=\"https://colab.research.google.com/github/Vasanta2002/sprint_6/blob/main/JDS_SHR_221_guided_project_notes.ipynb\" target=\"_parent\"><img src=\"https://colab.research.google.com/assets/colab-badge.svg\" alt=\"Open In Colab\"/></a>"
      ]
    },
    {
      "cell_type": "markdown",
      "metadata": {
        "id": "RUhphDysw-6P"
      },
      "source": [
        "## BloomTech Data Science\n",
        "\n",
        "---\n"
      ]
    },
    {
      "cell_type": "markdown",
      "metadata": {
        "id": "NvWhcow-dvS8"
      },
      "source": [
        "# Decision Trees\n",
        "\n",
        "- clean data with **outliers and missing values**\n",
        "- use scikit-learn for **decision trees**\n",
        "- get and interpret **feature importances** of a tree-based model\n",
        "- understand why decision trees are useful to model "
      ]
    },
    {
      "cell_type": "code",
      "metadata": {
        "id": "HRgkCSgGdty-"
      },
      "source": [
        "%%capture \n",
        "!pip install category_encoders==2.*\n",
        "!pip install pandas_profiling==2.*"
      ],
      "execution_count": 49,
      "outputs": []
    },
    {
      "cell_type": "code",
      "metadata": {
        "id": "Zp1eAYDMlLvn"
      },
      "source": [
        "from sklearn.model_selection import train_test_split\n",
        "from sklearn.pipeline import make_pipeline\n",
        "from category_encoders import OneHotEncoder, OrdinalEncoder\n",
        "from sklearn.preprocessing import StandardScaler\n",
        "from sklearn.impute import SimpleImputer\n",
        "from sklearn.linear_model import LogisticRegression\n",
        "from sklearn.metrics import accuracy_score\n",
        "from sklearn.tree import DecisionTreeClassifier, plot_tree\n",
        "from pandas_profiling import ProfileReport\n",
        "import matplotlib.pyplot as plt\n",
        "import pandas as pd\n",
        "import numpy as np\n",
        "\n",
        "# pd.options.display.max_rows = 100"
      ],
      "execution_count": 50,
      "outputs": []
    },
    {
      "cell_type": "markdown",
      "metadata": {
        "id": "sUmaaCmCprYw"
      },
      "source": [
        "# Downloading the Tanzania Waterpump Dataset"
      ]
    },
    {
      "cell_type": "markdown",
      "metadata": {
        "id": "nUUieyFk5A9u"
      },
      "source": [
        "Make sure  you only use the dataset that is available through the **DS** **Kaggle Competition**. DO NOT USE any other Tanzania waterpump datasets that you might find online.\n",
        "\n",
        "There are two ways you can get the dataset. Make sure you have joined the competition first!:\n",
        "\n",
        "1. You can download the dataset directly by accessing the challenge and the files through the Kaggle Competition URL on Canvas (make sure you have joined the competition!)\n",
        "\n",
        "2. Use the Kaggle API using the code in the following cells. This article provides helpful information on how to fetch your Kaggle Dataset into Google Colab using the Kaggle API. \n",
        "\n",
        "> https://medium.com/analytics-vidhya/how-to-fetch-kaggle-datasets-into-google-colab-ea682569851a"
      ]
    },
    {
      "cell_type": "markdown",
      "metadata": {
        "id": "d6TZ5nDFYkCa"
      },
      "source": [
        "# Using Kaggle API to download dataset"
      ]
    },
    {
      "cell_type": "code",
      "metadata": {
        "id": "X2e6fPUATxLZ",
        "colab": {
          "base_uri": "https://localhost:8080/"
        },
        "outputId": "5c5d3835-7fc4-4085-bf18-c435a3f64392"
      },
      "source": [
        "# mounting your google drive on colab\n",
        "from google.colab import drive\n",
        "drive.mount('/content/gdrive')"
      ],
      "execution_count": 51,
      "outputs": [
        {
          "output_type": "stream",
          "name": "stdout",
          "text": [
            "Drive already mounted at /content/gdrive; to attempt to forcibly remount, call drive.mount(\"/content/gdrive\", force_remount=True).\n"
          ]
        }
      ]
    },
    {
      "cell_type": "code",
      "source": [
        "# from google.colab import drive\n",
        "# drive.mount('/content/drive')"
      ],
      "metadata": {
        "id": "xKVUgI4vedVO"
      },
      "execution_count": 52,
      "outputs": []
    },
    {
      "cell_type": "code",
      "metadata": {
        "id": "KYSpUv9uYBAo",
        "colab": {
          "base_uri": "https://localhost:8080/"
        },
        "outputId": "135a7e02-fcaf-4070-abfb-6a5461c61ab5"
      },
      "source": [
        "#change your working directory, if you want to or have already saved your kaggle dataset on google drive.\n",
        "%cd /content/gdrive/My Drive/Kaggle\n",
        "# update it to your folder location on drive that contians the dataset and/or kaggle API token json file."
      ],
      "execution_count": 53,
      "outputs": [
        {
          "output_type": "stream",
          "name": "stdout",
          "text": [
            "/content/gdrive/My Drive/Kaggle\n"
          ]
        }
      ]
    },
    {
      "cell_type": "code",
      "metadata": {
        "id": "dXChvgdZYb_t",
        "colab": {
          "base_uri": "https://localhost:8080/"
        },
        "outputId": "28f887e7-8394-44f6-dd6d-1f2657fde491"
      },
      "source": [
        "# Download your Kaggle Dataset, if you haven't already done so \n",
        "import os\n",
        "os.environ['KAGGLE_CONFIG_DIR'] = \"/content/gdrive/My Drive/Kaggle\" # providing the config path to kaggle.json \n",
        "!kaggle competitions download -c bloomtech-water-pump-challenge # downloading dataset by running the Kaggle API command"
      ],
      "execution_count": 54,
      "outputs": [
        {
          "output_type": "stream",
          "name": "stdout",
          "text": [
            "bloomtech-water-pump-challenge.zip: Skipping, found more recently modified local copy (use --force to force download)\n"
          ]
        }
      ]
    },
    {
      "cell_type": "code",
      "metadata": {
        "id": "NB84qgRRYdDF"
      },
      "source": [
        "# Unzip your Kaggle dataset, if you haven't already done so.\n",
        "#!unzip \\*.zip  && rm *.zip"
      ],
      "execution_count": 55,
      "outputs": []
    },
    {
      "cell_type": "code",
      "metadata": {
        "id": "eag2zYiQYf6q",
        "colab": {
          "base_uri": "https://localhost:8080/"
        },
        "outputId": "e236264d-98d6-40a5-a800-604ffa2e9aea"
      },
      "source": [
        "# List all files in your Kaggle folder on your google drive.\n",
        "!ls"
      ],
      "execution_count": 56,
      "outputs": [
        {
          "output_type": "stream",
          "name": "stdout",
          "text": [
            "bloomtech-water-pump-challenge.zip  sample_submission.csv  train_features.csv\n",
            "kaggle.json\t\t\t    test_features.csv\t   train_labels.csv\n"
          ]
        }
      ]
    },
    {
      "cell_type": "markdown",
      "metadata": {
        "id": "oCBYPw7kd1AN"
      },
      "source": [
        "# I. Wrangle Data\n",
        "\n",
        "### Import data\n",
        "\n"
      ]
    },
    {
      "cell_type": "code",
      "source": [
        "train_features = pd.read_csv('train_features.csv')\n",
        "train_labels = pd.read_csv('train_labels.csv')\n",
        "test_features = pd.read_csv('test_features.csv')"
      ],
      "metadata": {
        "id": "hXpMHyrIzp0K"
      },
      "execution_count": 57,
      "outputs": []
    },
    {
      "cell_type": "code",
      "source": [
        "train_features.head()"
      ],
      "metadata": {
        "id": "UbOEOI0Sztn0",
        "colab": {
          "base_uri": "https://localhost:8080/",
          "height": 404
        },
        "outputId": "add2a58b-3460-4033-efb2-f7b133c3b645"
      },
      "execution_count": 58,
      "outputs": [
        {
          "output_type": "execute_result",
          "data": {
            "text/plain": [
              "      id  amount_tsh date_recorded funder  gps_height installer  longitude  \\\n",
              "0    454        50.0    2013-02-27   Dmdd        2092      DMDD  35.426020   \n",
              "1    510         0.0    2011-03-17   Cmsr           0      Gove  35.510074   \n",
              "2  14146         0.0    2011-07-10   Kkkt           0      KKKT  32.499866   \n",
              "3  47410         0.0    2011-04-12    NaN           0       NaN  34.060484   \n",
              "4   1288       300.0    2011-04-05     Ki        1023        Ki  37.032690   \n",
              "\n",
              "   latitude                 wpt_name  num_private  ... payment_type  \\\n",
              "0 -4.227446                    Narmo            0  ...   per bucket   \n",
              "1 -5.724555                   Lukali            0  ...    never pay   \n",
              "2 -9.081222                 Mahakama            0  ...    never pay   \n",
              "3 -8.830208  Shule Ya Msingi Chosi A            0  ...      monthly   \n",
              "4 -6.040787                Kwa Mjowe            0  ...   on failure   \n",
              "\n",
              "  water_quality quality_group      quantity  quantity_group        source  \\\n",
              "0          soft          good  insufficient    insufficient        spring   \n",
              "1          soft          good        enough          enough  shallow well   \n",
              "2          soft          good        enough          enough  shallow well   \n",
              "3          soft          good  insufficient    insufficient         river   \n",
              "4         salty         salty        enough          enough  shallow well   \n",
              "\n",
              "    source_type  source_class     waterpoint_type waterpoint_type_group  \n",
              "0        spring   groundwater  communal standpipe    communal standpipe  \n",
              "1  shallow well   groundwater           hand pump             hand pump  \n",
              "2  shallow well   groundwater               other                 other  \n",
              "3    river/lake       surface  communal standpipe    communal standpipe  \n",
              "4  shallow well   groundwater               other                 other  \n",
              "\n",
              "[5 rows x 40 columns]"
            ],
            "text/html": [
              "\n",
              "  <div id=\"df-e01c14d9-1968-4b98-a768-10e16813b90a\">\n",
              "    <div class=\"colab-df-container\">\n",
              "      <div>\n",
              "<style scoped>\n",
              "    .dataframe tbody tr th:only-of-type {\n",
              "        vertical-align: middle;\n",
              "    }\n",
              "\n",
              "    .dataframe tbody tr th {\n",
              "        vertical-align: top;\n",
              "    }\n",
              "\n",
              "    .dataframe thead th {\n",
              "        text-align: right;\n",
              "    }\n",
              "</style>\n",
              "<table border=\"1\" class=\"dataframe\">\n",
              "  <thead>\n",
              "    <tr style=\"text-align: right;\">\n",
              "      <th></th>\n",
              "      <th>id</th>\n",
              "      <th>amount_tsh</th>\n",
              "      <th>date_recorded</th>\n",
              "      <th>funder</th>\n",
              "      <th>gps_height</th>\n",
              "      <th>installer</th>\n",
              "      <th>longitude</th>\n",
              "      <th>latitude</th>\n",
              "      <th>wpt_name</th>\n",
              "      <th>num_private</th>\n",
              "      <th>...</th>\n",
              "      <th>payment_type</th>\n",
              "      <th>water_quality</th>\n",
              "      <th>quality_group</th>\n",
              "      <th>quantity</th>\n",
              "      <th>quantity_group</th>\n",
              "      <th>source</th>\n",
              "      <th>source_type</th>\n",
              "      <th>source_class</th>\n",
              "      <th>waterpoint_type</th>\n",
              "      <th>waterpoint_type_group</th>\n",
              "    </tr>\n",
              "  </thead>\n",
              "  <tbody>\n",
              "    <tr>\n",
              "      <th>0</th>\n",
              "      <td>454</td>\n",
              "      <td>50.0</td>\n",
              "      <td>2013-02-27</td>\n",
              "      <td>Dmdd</td>\n",
              "      <td>2092</td>\n",
              "      <td>DMDD</td>\n",
              "      <td>35.426020</td>\n",
              "      <td>-4.227446</td>\n",
              "      <td>Narmo</td>\n",
              "      <td>0</td>\n",
              "      <td>...</td>\n",
              "      <td>per bucket</td>\n",
              "      <td>soft</td>\n",
              "      <td>good</td>\n",
              "      <td>insufficient</td>\n",
              "      <td>insufficient</td>\n",
              "      <td>spring</td>\n",
              "      <td>spring</td>\n",
              "      <td>groundwater</td>\n",
              "      <td>communal standpipe</td>\n",
              "      <td>communal standpipe</td>\n",
              "    </tr>\n",
              "    <tr>\n",
              "      <th>1</th>\n",
              "      <td>510</td>\n",
              "      <td>0.0</td>\n",
              "      <td>2011-03-17</td>\n",
              "      <td>Cmsr</td>\n",
              "      <td>0</td>\n",
              "      <td>Gove</td>\n",
              "      <td>35.510074</td>\n",
              "      <td>-5.724555</td>\n",
              "      <td>Lukali</td>\n",
              "      <td>0</td>\n",
              "      <td>...</td>\n",
              "      <td>never pay</td>\n",
              "      <td>soft</td>\n",
              "      <td>good</td>\n",
              "      <td>enough</td>\n",
              "      <td>enough</td>\n",
              "      <td>shallow well</td>\n",
              "      <td>shallow well</td>\n",
              "      <td>groundwater</td>\n",
              "      <td>hand pump</td>\n",
              "      <td>hand pump</td>\n",
              "    </tr>\n",
              "    <tr>\n",
              "      <th>2</th>\n",
              "      <td>14146</td>\n",
              "      <td>0.0</td>\n",
              "      <td>2011-07-10</td>\n",
              "      <td>Kkkt</td>\n",
              "      <td>0</td>\n",
              "      <td>KKKT</td>\n",
              "      <td>32.499866</td>\n",
              "      <td>-9.081222</td>\n",
              "      <td>Mahakama</td>\n",
              "      <td>0</td>\n",
              "      <td>...</td>\n",
              "      <td>never pay</td>\n",
              "      <td>soft</td>\n",
              "      <td>good</td>\n",
              "      <td>enough</td>\n",
              "      <td>enough</td>\n",
              "      <td>shallow well</td>\n",
              "      <td>shallow well</td>\n",
              "      <td>groundwater</td>\n",
              "      <td>other</td>\n",
              "      <td>other</td>\n",
              "    </tr>\n",
              "    <tr>\n",
              "      <th>3</th>\n",
              "      <td>47410</td>\n",
              "      <td>0.0</td>\n",
              "      <td>2011-04-12</td>\n",
              "      <td>NaN</td>\n",
              "      <td>0</td>\n",
              "      <td>NaN</td>\n",
              "      <td>34.060484</td>\n",
              "      <td>-8.830208</td>\n",
              "      <td>Shule Ya Msingi Chosi A</td>\n",
              "      <td>0</td>\n",
              "      <td>...</td>\n",
              "      <td>monthly</td>\n",
              "      <td>soft</td>\n",
              "      <td>good</td>\n",
              "      <td>insufficient</td>\n",
              "      <td>insufficient</td>\n",
              "      <td>river</td>\n",
              "      <td>river/lake</td>\n",
              "      <td>surface</td>\n",
              "      <td>communal standpipe</td>\n",
              "      <td>communal standpipe</td>\n",
              "    </tr>\n",
              "    <tr>\n",
              "      <th>4</th>\n",
              "      <td>1288</td>\n",
              "      <td>300.0</td>\n",
              "      <td>2011-04-05</td>\n",
              "      <td>Ki</td>\n",
              "      <td>1023</td>\n",
              "      <td>Ki</td>\n",
              "      <td>37.032690</td>\n",
              "      <td>-6.040787</td>\n",
              "      <td>Kwa Mjowe</td>\n",
              "      <td>0</td>\n",
              "      <td>...</td>\n",
              "      <td>on failure</td>\n",
              "      <td>salty</td>\n",
              "      <td>salty</td>\n",
              "      <td>enough</td>\n",
              "      <td>enough</td>\n",
              "      <td>shallow well</td>\n",
              "      <td>shallow well</td>\n",
              "      <td>groundwater</td>\n",
              "      <td>other</td>\n",
              "      <td>other</td>\n",
              "    </tr>\n",
              "  </tbody>\n",
              "</table>\n",
              "<p>5 rows × 40 columns</p>\n",
              "</div>\n",
              "      <button class=\"colab-df-convert\" onclick=\"convertToInteractive('df-e01c14d9-1968-4b98-a768-10e16813b90a')\"\n",
              "              title=\"Convert this dataframe to an interactive table.\"\n",
              "              style=\"display:none;\">\n",
              "        \n",
              "  <svg xmlns=\"http://www.w3.org/2000/svg\" height=\"24px\"viewBox=\"0 0 24 24\"\n",
              "       width=\"24px\">\n",
              "    <path d=\"M0 0h24v24H0V0z\" fill=\"none\"/>\n",
              "    <path d=\"M18.56 5.44l.94 2.06.94-2.06 2.06-.94-2.06-.94-.94-2.06-.94 2.06-2.06.94zm-11 1L8.5 8.5l.94-2.06 2.06-.94-2.06-.94L8.5 2.5l-.94 2.06-2.06.94zm10 10l.94 2.06.94-2.06 2.06-.94-2.06-.94-.94-2.06-.94 2.06-2.06.94z\"/><path d=\"M17.41 7.96l-1.37-1.37c-.4-.4-.92-.59-1.43-.59-.52 0-1.04.2-1.43.59L10.3 9.45l-7.72 7.72c-.78.78-.78 2.05 0 2.83L4 21.41c.39.39.9.59 1.41.59.51 0 1.02-.2 1.41-.59l7.78-7.78 2.81-2.81c.8-.78.8-2.07 0-2.86zM5.41 20L4 18.59l7.72-7.72 1.47 1.35L5.41 20z\"/>\n",
              "  </svg>\n",
              "      </button>\n",
              "      \n",
              "  <style>\n",
              "    .colab-df-container {\n",
              "      display:flex;\n",
              "      flex-wrap:wrap;\n",
              "      gap: 12px;\n",
              "    }\n",
              "\n",
              "    .colab-df-convert {\n",
              "      background-color: #E8F0FE;\n",
              "      border: none;\n",
              "      border-radius: 50%;\n",
              "      cursor: pointer;\n",
              "      display: none;\n",
              "      fill: #1967D2;\n",
              "      height: 32px;\n",
              "      padding: 0 0 0 0;\n",
              "      width: 32px;\n",
              "    }\n",
              "\n",
              "    .colab-df-convert:hover {\n",
              "      background-color: #E2EBFA;\n",
              "      box-shadow: 0px 1px 2px rgba(60, 64, 67, 0.3), 0px 1px 3px 1px rgba(60, 64, 67, 0.15);\n",
              "      fill: #174EA6;\n",
              "    }\n",
              "\n",
              "    [theme=dark] .colab-df-convert {\n",
              "      background-color: #3B4455;\n",
              "      fill: #D2E3FC;\n",
              "    }\n",
              "\n",
              "    [theme=dark] .colab-df-convert:hover {\n",
              "      background-color: #434B5C;\n",
              "      box-shadow: 0px 1px 3px 1px rgba(0, 0, 0, 0.15);\n",
              "      filter: drop-shadow(0px 1px 2px rgba(0, 0, 0, 0.3));\n",
              "      fill: #FFFFFF;\n",
              "    }\n",
              "  </style>\n",
              "\n",
              "      <script>\n",
              "        const buttonEl =\n",
              "          document.querySelector('#df-e01c14d9-1968-4b98-a768-10e16813b90a button.colab-df-convert');\n",
              "        buttonEl.style.display =\n",
              "          google.colab.kernel.accessAllowed ? 'block' : 'none';\n",
              "\n",
              "        async function convertToInteractive(key) {\n",
              "          const element = document.querySelector('#df-e01c14d9-1968-4b98-a768-10e16813b90a');\n",
              "          const dataTable =\n",
              "            await google.colab.kernel.invokeFunction('convertToInteractive',\n",
              "                                                     [key], {});\n",
              "          if (!dataTable) return;\n",
              "\n",
              "          const docLinkHtml = 'Like what you see? Visit the ' +\n",
              "            '<a target=\"_blank\" href=https://colab.research.google.com/notebooks/data_table.ipynb>data table notebook</a>'\n",
              "            + ' to learn more about interactive tables.';\n",
              "          element.innerHTML = '';\n",
              "          dataTable['output_type'] = 'display_data';\n",
              "          await google.colab.output.renderOutput(dataTable, element);\n",
              "          const docLink = document.createElement('div');\n",
              "          docLink.innerHTML = docLinkHtml;\n",
              "          element.appendChild(docLink);\n",
              "        }\n",
              "      </script>\n",
              "    </div>\n",
              "  </div>\n",
              "  "
            ]
          },
          "metadata": {},
          "execution_count": 58
        }
      ]
    },
    {
      "cell_type": "code",
      "source": [
        "train_labels.head()"
      ],
      "metadata": {
        "id": "JRjX4Hpt0Olv",
        "colab": {
          "base_uri": "https://localhost:8080/",
          "height": 206
        },
        "outputId": "5d04085b-a8bf-47fb-fc62-6813416641e5"
      },
      "execution_count": 59,
      "outputs": [
        {
          "output_type": "execute_result",
          "data": {
            "text/plain": [
              "      id    status_group\n",
              "0    454      functional\n",
              "1    510      functional\n",
              "2  14146  non functional\n",
              "3  47410  non functional\n",
              "4   1288  non functional"
            ],
            "text/html": [
              "\n",
              "  <div id=\"df-65b405fb-c3e5-4801-a685-eee78e9e7dd7\">\n",
              "    <div class=\"colab-df-container\">\n",
              "      <div>\n",
              "<style scoped>\n",
              "    .dataframe tbody tr th:only-of-type {\n",
              "        vertical-align: middle;\n",
              "    }\n",
              "\n",
              "    .dataframe tbody tr th {\n",
              "        vertical-align: top;\n",
              "    }\n",
              "\n",
              "    .dataframe thead th {\n",
              "        text-align: right;\n",
              "    }\n",
              "</style>\n",
              "<table border=\"1\" class=\"dataframe\">\n",
              "  <thead>\n",
              "    <tr style=\"text-align: right;\">\n",
              "      <th></th>\n",
              "      <th>id</th>\n",
              "      <th>status_group</th>\n",
              "    </tr>\n",
              "  </thead>\n",
              "  <tbody>\n",
              "    <tr>\n",
              "      <th>0</th>\n",
              "      <td>454</td>\n",
              "      <td>functional</td>\n",
              "    </tr>\n",
              "    <tr>\n",
              "      <th>1</th>\n",
              "      <td>510</td>\n",
              "      <td>functional</td>\n",
              "    </tr>\n",
              "    <tr>\n",
              "      <th>2</th>\n",
              "      <td>14146</td>\n",
              "      <td>non functional</td>\n",
              "    </tr>\n",
              "    <tr>\n",
              "      <th>3</th>\n",
              "      <td>47410</td>\n",
              "      <td>non functional</td>\n",
              "    </tr>\n",
              "    <tr>\n",
              "      <th>4</th>\n",
              "      <td>1288</td>\n",
              "      <td>non functional</td>\n",
              "    </tr>\n",
              "  </tbody>\n",
              "</table>\n",
              "</div>\n",
              "      <button class=\"colab-df-convert\" onclick=\"convertToInteractive('df-65b405fb-c3e5-4801-a685-eee78e9e7dd7')\"\n",
              "              title=\"Convert this dataframe to an interactive table.\"\n",
              "              style=\"display:none;\">\n",
              "        \n",
              "  <svg xmlns=\"http://www.w3.org/2000/svg\" height=\"24px\"viewBox=\"0 0 24 24\"\n",
              "       width=\"24px\">\n",
              "    <path d=\"M0 0h24v24H0V0z\" fill=\"none\"/>\n",
              "    <path d=\"M18.56 5.44l.94 2.06.94-2.06 2.06-.94-2.06-.94-.94-2.06-.94 2.06-2.06.94zm-11 1L8.5 8.5l.94-2.06 2.06-.94-2.06-.94L8.5 2.5l-.94 2.06-2.06.94zm10 10l.94 2.06.94-2.06 2.06-.94-2.06-.94-.94-2.06-.94 2.06-2.06.94z\"/><path d=\"M17.41 7.96l-1.37-1.37c-.4-.4-.92-.59-1.43-.59-.52 0-1.04.2-1.43.59L10.3 9.45l-7.72 7.72c-.78.78-.78 2.05 0 2.83L4 21.41c.39.39.9.59 1.41.59.51 0 1.02-.2 1.41-.59l7.78-7.78 2.81-2.81c.8-.78.8-2.07 0-2.86zM5.41 20L4 18.59l7.72-7.72 1.47 1.35L5.41 20z\"/>\n",
              "  </svg>\n",
              "      </button>\n",
              "      \n",
              "  <style>\n",
              "    .colab-df-container {\n",
              "      display:flex;\n",
              "      flex-wrap:wrap;\n",
              "      gap: 12px;\n",
              "    }\n",
              "\n",
              "    .colab-df-convert {\n",
              "      background-color: #E8F0FE;\n",
              "      border: none;\n",
              "      border-radius: 50%;\n",
              "      cursor: pointer;\n",
              "      display: none;\n",
              "      fill: #1967D2;\n",
              "      height: 32px;\n",
              "      padding: 0 0 0 0;\n",
              "      width: 32px;\n",
              "    }\n",
              "\n",
              "    .colab-df-convert:hover {\n",
              "      background-color: #E2EBFA;\n",
              "      box-shadow: 0px 1px 2px rgba(60, 64, 67, 0.3), 0px 1px 3px 1px rgba(60, 64, 67, 0.15);\n",
              "      fill: #174EA6;\n",
              "    }\n",
              "\n",
              "    [theme=dark] .colab-df-convert {\n",
              "      background-color: #3B4455;\n",
              "      fill: #D2E3FC;\n",
              "    }\n",
              "\n",
              "    [theme=dark] .colab-df-convert:hover {\n",
              "      background-color: #434B5C;\n",
              "      box-shadow: 0px 1px 3px 1px rgba(0, 0, 0, 0.15);\n",
              "      filter: drop-shadow(0px 1px 2px rgba(0, 0, 0, 0.3));\n",
              "      fill: #FFFFFF;\n",
              "    }\n",
              "  </style>\n",
              "\n",
              "      <script>\n",
              "        const buttonEl =\n",
              "          document.querySelector('#df-65b405fb-c3e5-4801-a685-eee78e9e7dd7 button.colab-df-convert');\n",
              "        buttonEl.style.display =\n",
              "          google.colab.kernel.accessAllowed ? 'block' : 'none';\n",
              "\n",
              "        async function convertToInteractive(key) {\n",
              "          const element = document.querySelector('#df-65b405fb-c3e5-4801-a685-eee78e9e7dd7');\n",
              "          const dataTable =\n",
              "            await google.colab.kernel.invokeFunction('convertToInteractive',\n",
              "                                                     [key], {});\n",
              "          if (!dataTable) return;\n",
              "\n",
              "          const docLinkHtml = 'Like what you see? Visit the ' +\n",
              "            '<a target=\"_blank\" href=https://colab.research.google.com/notebooks/data_table.ipynb>data table notebook</a>'\n",
              "            + ' to learn more about interactive tables.';\n",
              "          element.innerHTML = '';\n",
              "          dataTable['output_type'] = 'display_data';\n",
              "          await google.colab.output.renderOutput(dataTable, element);\n",
              "          const docLink = document.createElement('div');\n",
              "          docLink.innerHTML = docLinkHtml;\n",
              "          element.appendChild(docLink);\n",
              "        }\n",
              "      </script>\n",
              "    </div>\n",
              "  </div>\n",
              "  "
            ]
          },
          "metadata": {},
          "execution_count": 59
        }
      ]
    },
    {
      "cell_type": "code",
      "source": [
        "test_features.head()"
      ],
      "metadata": {
        "id": "_sUGw5FfzvZA",
        "colab": {
          "base_uri": "https://localhost:8080/",
          "height": 421
        },
        "outputId": "2b86104f-c4a6-4ddd-c5fa-b9df0113dbbe"
      },
      "execution_count": 60,
      "outputs": [
        {
          "output_type": "execute_result",
          "data": {
            "text/plain": [
              "      id  amount_tsh date_recorded                          funder  \\\n",
              "0  37098         0.0    2012-10-09  Rural Water Supply And Sanitat   \n",
              "1  14530         0.0    2012-11-03   Halmashauri Ya Manispa Tabora   \n",
              "2  62607        10.0    2013-02-25                   Siter Fransis   \n",
              "3  46053         0.0    2011-08-13                            Kkkt   \n",
              "4  47083        50.0    2013-02-08                        Wateraid   \n",
              "\n",
              "   gps_height                      installer  longitude  latitude   wpt_name  \\\n",
              "0           0                            DWE  31.985658 -3.596360     Kasela   \n",
              "1           0  Halmashauri ya manispa tabora  32.832815 -4.944937    Mbugani   \n",
              "2        1675                            DWE  35.488289 -4.242048  Kwa Leosi   \n",
              "3           0                           KKKT  33.140828 -9.059386      Jangi   \n",
              "4        1109                           SEMA  34.217077 -4.430529      Mkima   \n",
              "\n",
              "   num_private  ... payment_type water_quality quality_group      quantity  \\\n",
              "0            0  ...      unknown          soft          good           dry   \n",
              "1            0  ...    never pay         milky         milky  insufficient   \n",
              "2            0  ...   per bucket          soft          good  insufficient   \n",
              "3            0  ...    never pay          soft          good      seasonal   \n",
              "4            0  ...   per bucket          soft          good        enough   \n",
              "\n",
              "   quantity_group        source   source_type  source_class  \\\n",
              "0             dry  shallow well  shallow well   groundwater   \n",
              "1    insufficient  shallow well  shallow well   groundwater   \n",
              "2    insufficient        spring        spring   groundwater   \n",
              "3        seasonal  shallow well  shallow well   groundwater   \n",
              "4          enough   machine dbh      borehole   groundwater   \n",
              "\n",
              "               waterpoint_type waterpoint_type_group  \n",
              "0                        other                 other  \n",
              "1                    hand pump             hand pump  \n",
              "2           communal standpipe    communal standpipe  \n",
              "3                    hand pump             hand pump  \n",
              "4  communal standpipe multiple    communal standpipe  \n",
              "\n",
              "[5 rows x 40 columns]"
            ],
            "text/html": [
              "\n",
              "  <div id=\"df-0749faec-c049-4331-92ee-36d20fb8328c\">\n",
              "    <div class=\"colab-df-container\">\n",
              "      <div>\n",
              "<style scoped>\n",
              "    .dataframe tbody tr th:only-of-type {\n",
              "        vertical-align: middle;\n",
              "    }\n",
              "\n",
              "    .dataframe tbody tr th {\n",
              "        vertical-align: top;\n",
              "    }\n",
              "\n",
              "    .dataframe thead th {\n",
              "        text-align: right;\n",
              "    }\n",
              "</style>\n",
              "<table border=\"1\" class=\"dataframe\">\n",
              "  <thead>\n",
              "    <tr style=\"text-align: right;\">\n",
              "      <th></th>\n",
              "      <th>id</th>\n",
              "      <th>amount_tsh</th>\n",
              "      <th>date_recorded</th>\n",
              "      <th>funder</th>\n",
              "      <th>gps_height</th>\n",
              "      <th>installer</th>\n",
              "      <th>longitude</th>\n",
              "      <th>latitude</th>\n",
              "      <th>wpt_name</th>\n",
              "      <th>num_private</th>\n",
              "      <th>...</th>\n",
              "      <th>payment_type</th>\n",
              "      <th>water_quality</th>\n",
              "      <th>quality_group</th>\n",
              "      <th>quantity</th>\n",
              "      <th>quantity_group</th>\n",
              "      <th>source</th>\n",
              "      <th>source_type</th>\n",
              "      <th>source_class</th>\n",
              "      <th>waterpoint_type</th>\n",
              "      <th>waterpoint_type_group</th>\n",
              "    </tr>\n",
              "  </thead>\n",
              "  <tbody>\n",
              "    <tr>\n",
              "      <th>0</th>\n",
              "      <td>37098</td>\n",
              "      <td>0.0</td>\n",
              "      <td>2012-10-09</td>\n",
              "      <td>Rural Water Supply And Sanitat</td>\n",
              "      <td>0</td>\n",
              "      <td>DWE</td>\n",
              "      <td>31.985658</td>\n",
              "      <td>-3.596360</td>\n",
              "      <td>Kasela</td>\n",
              "      <td>0</td>\n",
              "      <td>...</td>\n",
              "      <td>unknown</td>\n",
              "      <td>soft</td>\n",
              "      <td>good</td>\n",
              "      <td>dry</td>\n",
              "      <td>dry</td>\n",
              "      <td>shallow well</td>\n",
              "      <td>shallow well</td>\n",
              "      <td>groundwater</td>\n",
              "      <td>other</td>\n",
              "      <td>other</td>\n",
              "    </tr>\n",
              "    <tr>\n",
              "      <th>1</th>\n",
              "      <td>14530</td>\n",
              "      <td>0.0</td>\n",
              "      <td>2012-11-03</td>\n",
              "      <td>Halmashauri Ya Manispa Tabora</td>\n",
              "      <td>0</td>\n",
              "      <td>Halmashauri ya manispa tabora</td>\n",
              "      <td>32.832815</td>\n",
              "      <td>-4.944937</td>\n",
              "      <td>Mbugani</td>\n",
              "      <td>0</td>\n",
              "      <td>...</td>\n",
              "      <td>never pay</td>\n",
              "      <td>milky</td>\n",
              "      <td>milky</td>\n",
              "      <td>insufficient</td>\n",
              "      <td>insufficient</td>\n",
              "      <td>shallow well</td>\n",
              "      <td>shallow well</td>\n",
              "      <td>groundwater</td>\n",
              "      <td>hand pump</td>\n",
              "      <td>hand pump</td>\n",
              "    </tr>\n",
              "    <tr>\n",
              "      <th>2</th>\n",
              "      <td>62607</td>\n",
              "      <td>10.0</td>\n",
              "      <td>2013-02-25</td>\n",
              "      <td>Siter Fransis</td>\n",
              "      <td>1675</td>\n",
              "      <td>DWE</td>\n",
              "      <td>35.488289</td>\n",
              "      <td>-4.242048</td>\n",
              "      <td>Kwa Leosi</td>\n",
              "      <td>0</td>\n",
              "      <td>...</td>\n",
              "      <td>per bucket</td>\n",
              "      <td>soft</td>\n",
              "      <td>good</td>\n",
              "      <td>insufficient</td>\n",
              "      <td>insufficient</td>\n",
              "      <td>spring</td>\n",
              "      <td>spring</td>\n",
              "      <td>groundwater</td>\n",
              "      <td>communal standpipe</td>\n",
              "      <td>communal standpipe</td>\n",
              "    </tr>\n",
              "    <tr>\n",
              "      <th>3</th>\n",
              "      <td>46053</td>\n",
              "      <td>0.0</td>\n",
              "      <td>2011-08-13</td>\n",
              "      <td>Kkkt</td>\n",
              "      <td>0</td>\n",
              "      <td>KKKT</td>\n",
              "      <td>33.140828</td>\n",
              "      <td>-9.059386</td>\n",
              "      <td>Jangi</td>\n",
              "      <td>0</td>\n",
              "      <td>...</td>\n",
              "      <td>never pay</td>\n",
              "      <td>soft</td>\n",
              "      <td>good</td>\n",
              "      <td>seasonal</td>\n",
              "      <td>seasonal</td>\n",
              "      <td>shallow well</td>\n",
              "      <td>shallow well</td>\n",
              "      <td>groundwater</td>\n",
              "      <td>hand pump</td>\n",
              "      <td>hand pump</td>\n",
              "    </tr>\n",
              "    <tr>\n",
              "      <th>4</th>\n",
              "      <td>47083</td>\n",
              "      <td>50.0</td>\n",
              "      <td>2013-02-08</td>\n",
              "      <td>Wateraid</td>\n",
              "      <td>1109</td>\n",
              "      <td>SEMA</td>\n",
              "      <td>34.217077</td>\n",
              "      <td>-4.430529</td>\n",
              "      <td>Mkima</td>\n",
              "      <td>0</td>\n",
              "      <td>...</td>\n",
              "      <td>per bucket</td>\n",
              "      <td>soft</td>\n",
              "      <td>good</td>\n",
              "      <td>enough</td>\n",
              "      <td>enough</td>\n",
              "      <td>machine dbh</td>\n",
              "      <td>borehole</td>\n",
              "      <td>groundwater</td>\n",
              "      <td>communal standpipe multiple</td>\n",
              "      <td>communal standpipe</td>\n",
              "    </tr>\n",
              "  </tbody>\n",
              "</table>\n",
              "<p>5 rows × 40 columns</p>\n",
              "</div>\n",
              "      <button class=\"colab-df-convert\" onclick=\"convertToInteractive('df-0749faec-c049-4331-92ee-36d20fb8328c')\"\n",
              "              title=\"Convert this dataframe to an interactive table.\"\n",
              "              style=\"display:none;\">\n",
              "        \n",
              "  <svg xmlns=\"http://www.w3.org/2000/svg\" height=\"24px\"viewBox=\"0 0 24 24\"\n",
              "       width=\"24px\">\n",
              "    <path d=\"M0 0h24v24H0V0z\" fill=\"none\"/>\n",
              "    <path d=\"M18.56 5.44l.94 2.06.94-2.06 2.06-.94-2.06-.94-.94-2.06-.94 2.06-2.06.94zm-11 1L8.5 8.5l.94-2.06 2.06-.94-2.06-.94L8.5 2.5l-.94 2.06-2.06.94zm10 10l.94 2.06.94-2.06 2.06-.94-2.06-.94-.94-2.06-.94 2.06-2.06.94z\"/><path d=\"M17.41 7.96l-1.37-1.37c-.4-.4-.92-.59-1.43-.59-.52 0-1.04.2-1.43.59L10.3 9.45l-7.72 7.72c-.78.78-.78 2.05 0 2.83L4 21.41c.39.39.9.59 1.41.59.51 0 1.02-.2 1.41-.59l7.78-7.78 2.81-2.81c.8-.78.8-2.07 0-2.86zM5.41 20L4 18.59l7.72-7.72 1.47 1.35L5.41 20z\"/>\n",
              "  </svg>\n",
              "      </button>\n",
              "      \n",
              "  <style>\n",
              "    .colab-df-container {\n",
              "      display:flex;\n",
              "      flex-wrap:wrap;\n",
              "      gap: 12px;\n",
              "    }\n",
              "\n",
              "    .colab-df-convert {\n",
              "      background-color: #E8F0FE;\n",
              "      border: none;\n",
              "      border-radius: 50%;\n",
              "      cursor: pointer;\n",
              "      display: none;\n",
              "      fill: #1967D2;\n",
              "      height: 32px;\n",
              "      padding: 0 0 0 0;\n",
              "      width: 32px;\n",
              "    }\n",
              "\n",
              "    .colab-df-convert:hover {\n",
              "      background-color: #E2EBFA;\n",
              "      box-shadow: 0px 1px 2px rgba(60, 64, 67, 0.3), 0px 1px 3px 1px rgba(60, 64, 67, 0.15);\n",
              "      fill: #174EA6;\n",
              "    }\n",
              "\n",
              "    [theme=dark] .colab-df-convert {\n",
              "      background-color: #3B4455;\n",
              "      fill: #D2E3FC;\n",
              "    }\n",
              "\n",
              "    [theme=dark] .colab-df-convert:hover {\n",
              "      background-color: #434B5C;\n",
              "      box-shadow: 0px 1px 3px 1px rgba(0, 0, 0, 0.15);\n",
              "      filter: drop-shadow(0px 1px 2px rgba(0, 0, 0, 0.3));\n",
              "      fill: #FFFFFF;\n",
              "    }\n",
              "  </style>\n",
              "\n",
              "      <script>\n",
              "        const buttonEl =\n",
              "          document.querySelector('#df-0749faec-c049-4331-92ee-36d20fb8328c button.colab-df-convert');\n",
              "        buttonEl.style.display =\n",
              "          google.colab.kernel.accessAllowed ? 'block' : 'none';\n",
              "\n",
              "        async function convertToInteractive(key) {\n",
              "          const element = document.querySelector('#df-0749faec-c049-4331-92ee-36d20fb8328c');\n",
              "          const dataTable =\n",
              "            await google.colab.kernel.invokeFunction('convertToInteractive',\n",
              "                                                     [key], {});\n",
              "          if (!dataTable) return;\n",
              "\n",
              "          const docLinkHtml = 'Like what you see? Visit the ' +\n",
              "            '<a target=\"_blank\" href=https://colab.research.google.com/notebooks/data_table.ipynb>data table notebook</a>'\n",
              "            + ' to learn more about interactive tables.';\n",
              "          element.innerHTML = '';\n",
              "          dataTable['output_type'] = 'display_data';\n",
              "          await google.colab.output.renderOutput(dataTable, element);\n",
              "          const docLink = document.createElement('div');\n",
              "          docLink.innerHTML = docLinkHtml;\n",
              "          element.appendChild(docLink);\n",
              "        }\n",
              "      </script>\n",
              "    </div>\n",
              "  </div>\n",
              "  "
            ]
          },
          "metadata": {},
          "execution_count": 60
        }
      ]
    },
    {
      "cell_type": "code",
      "metadata": {
        "id": "DN79RES5vzqr"
      },
      "source": [
        "train = pd.merge(pd.read_csv('train_features.csv'), pd.read_csv('train_labels.csv'))\n",
        "X_test = pd.read_csv('test_features.csv')"
      ],
      "execution_count": 61,
      "outputs": []
    },
    {
      "cell_type": "markdown",
      "metadata": {
        "id": "xpxcaA6yUwzP"
      },
      "source": [
        "### EDA"
      ]
    },
    {
      "cell_type": "code",
      "source": [
        "train.info()"
      ],
      "metadata": {
        "id": "kD3Mt3Ek02zZ",
        "colab": {
          "base_uri": "https://localhost:8080/"
        },
        "outputId": "5e1ab9c6-4df5-42d2-cefe-f1bf8d60501f"
      },
      "execution_count": 62,
      "outputs": [
        {
          "output_type": "stream",
          "name": "stdout",
          "text": [
            "<class 'pandas.core.frame.DataFrame'>\n",
            "Int64Index: 47520 entries, 0 to 47519\n",
            "Data columns (total 41 columns):\n",
            " #   Column                 Non-Null Count  Dtype  \n",
            "---  ------                 --------------  -----  \n",
            " 0   id                     47520 non-null  int64  \n",
            " 1   amount_tsh             47520 non-null  float64\n",
            " 2   date_recorded          47520 non-null  object \n",
            " 3   funder                 44644 non-null  object \n",
            " 4   gps_height             47520 non-null  int64  \n",
            " 5   installer              44631 non-null  object \n",
            " 6   longitude              47520 non-null  float64\n",
            " 7   latitude               47520 non-null  float64\n",
            " 8   wpt_name               47520 non-null  object \n",
            " 9   num_private            47520 non-null  int64  \n",
            " 10  basin                  47520 non-null  object \n",
            " 11  subvillage             47224 non-null  object \n",
            " 12  region                 47520 non-null  object \n",
            " 13  region_code            47520 non-null  int64  \n",
            " 14  district_code          47520 non-null  int64  \n",
            " 15  lga                    47520 non-null  object \n",
            " 16  ward                   47520 non-null  object \n",
            " 17  population             47520 non-null  int64  \n",
            " 18  public_meeting         44831 non-null  object \n",
            " 19  recorded_by            47520 non-null  object \n",
            " 20  scheme_management      44418 non-null  object \n",
            " 21  scheme_name            24997 non-null  object \n",
            " 22  permit                 45081 non-null  object \n",
            " 23  construction_year      47520 non-null  int64  \n",
            " 24  extraction_type        47520 non-null  object \n",
            " 25  extraction_type_group  47520 non-null  object \n",
            " 26  extraction_type_class  47520 non-null  object \n",
            " 27  management             47520 non-null  object \n",
            " 28  management_group       47520 non-null  object \n",
            " 29  payment                47520 non-null  object \n",
            " 30  payment_type           47520 non-null  object \n",
            " 31  water_quality          47520 non-null  object \n",
            " 32  quality_group          47520 non-null  object \n",
            " 33  quantity               47520 non-null  object \n",
            " 34  quantity_group         47520 non-null  object \n",
            " 35  source                 47520 non-null  object \n",
            " 36  source_type            47520 non-null  object \n",
            " 37  source_class           47520 non-null  object \n",
            " 38  waterpoint_type        47520 non-null  object \n",
            " 39  waterpoint_type_group  47520 non-null  object \n",
            " 40  status_group           47520 non-null  object \n",
            "dtypes: float64(3), int64(7), object(31)\n",
            "memory usage: 15.2+ MB\n"
          ]
        }
      ]
    },
    {
      "cell_type": "code",
      "source": [
        "ProfileReport(train, minimal=True).to_notebook_iframe()"
      ],
      "metadata": {
        "id": "CX9dQfvO0KUb"
      },
      "execution_count": null,
      "outputs": []
    },
    {
      "cell_type": "code",
      "metadata": {
        "id": "kaSsPQqqbFkY"
      },
      "source": [
        "train = pd.merge(pd.read_csv('train_features.csv',na_values=[0, -2.000000e-08]), \n",
        "                 pd.read_csv('train_labels.csv'))\n",
        "X_test = pd.read_csv('test_features.csv', na_values=[0, -2.000000e-08])\n",
        "\n",
        "\n",
        "def wrangle(df):\n",
        "\n",
        "  # Set the index to 'id'\n",
        "  df.set_index('id', inplace=True)\n",
        "\n",
        "  # Drop Constant Column\n",
        "  df.drop(columns='recorded_by', inplace=True)\n",
        "\n",
        "  # Drop Duplicate Column\n",
        "  df.drop(columns='quantity_group', inplace=True)\n",
        "\n",
        "  # Drop High Cardinality Columns\n",
        "  threshold = 100\n",
        "  cols_to_drop = [col for col in df.select_dtypes('object') if df[col].nunique() > threshold]\n",
        "  df.drop(columns=cols_to_drop, inplace=True)\n",
        "\n",
        "  # Drop columns with high proportion of zeros\n",
        "  df.drop(columns='num_private', inplace=True)\n",
        "\n",
        "  return df\n",
        "\n",
        "train = wrangle(train)\n",
        "X_test = wrangle(X_test)\n"
      ],
      "execution_count": 64,
      "outputs": []
    },
    {
      "cell_type": "code",
      "metadata": {
        "id": "rExNTtaSwCri",
        "colab": {
          "base_uri": "https://localhost:8080/",
          "height": 265
        },
        "outputId": "bd66e0a5-9801-4391-cb79-d5d29575ba12"
      },
      "source": [
        "# null island! \n",
        "# bunch of data coordinates at 0,0\n",
        "\n",
        "plt.scatter(train['longitude'], train['latitude'])\n",
        "plt.show()"
      ],
      "execution_count": 65,
      "outputs": [
        {
          "output_type": "display_data",
          "data": {
            "text/plain": [
              "<Figure size 432x288 with 1 Axes>"
            ],
            "image/png": "[encoded data removed]"
          },
          "metadata": {
            "needs_background": "light"
          }
        }
      ]
    },
    {
      "cell_type": "code",
      "metadata": {
        "id": "XGJexjFXwCo_",
        "colab": {
          "base_uri": "https://localhost:8080/",
          "height": 174
        },
        "outputId": "c2c21202-f570-44a7-de39-d828a7dba9e8"
      },
      "source": [
        "train[train['latitude'] ==0]"
      ],
      "execution_count": 66,
      "outputs": [
        {
          "output_type": "execute_result",
          "data": {
            "text/plain": [
              "Empty DataFrame\n",
              "Columns: [amount_tsh, gps_height, longitude, latitude, basin, region, region_code, district_code, population, public_meeting, scheme_management, permit, construction_year, extraction_type, extraction_type_group, extraction_type_class, management, management_group, payment, payment_type, water_quality, quality_group, quantity, source, source_type, source_class, waterpoint_type, waterpoint_type_group, status_group]\n",
              "Index: []\n",
              "\n",
              "[0 rows x 29 columns]"
            ],
            "text/html": [
              "\n",
              "  <div id=\"df-97c31154-e5f3-4370-81c7-58273c69da91\">\n",
              "    <div class=\"colab-df-container\">\n",
              "      <div>\n",
              "<style scoped>\n",
              "    .dataframe tbody tr th:only-of-type {\n",
              "        vertical-align: middle;\n",
              "    }\n",
              "\n",
              "    .dataframe tbody tr th {\n",
              "        vertical-align: top;\n",
              "    }\n",
              "\n",
              "    .dataframe thead th {\n",
              "        text-align: right;\n",
              "    }\n",
              "</style>\n",
              "<table border=\"1\" class=\"dataframe\">\n",
              "  <thead>\n",
              "    <tr style=\"text-align: right;\">\n",
              "      <th></th>\n",
              "      <th>amount_tsh</th>\n",
              "      <th>gps_height</th>\n",
              "      <th>longitude</th>\n",
              "      <th>latitude</th>\n",
              "      <th>basin</th>\n",
              "      <th>region</th>\n",
              "      <th>region_code</th>\n",
              "      <th>district_code</th>\n",
              "      <th>population</th>\n",
              "      <th>public_meeting</th>\n",
              "      <th>...</th>\n",
              "      <th>payment_type</th>\n",
              "      <th>water_quality</th>\n",
              "      <th>quality_group</th>\n",
              "      <th>quantity</th>\n",
              "      <th>source</th>\n",
              "      <th>source_type</th>\n",
              "      <th>source_class</th>\n",
              "      <th>waterpoint_type</th>\n",
              "      <th>waterpoint_type_group</th>\n",
              "      <th>status_group</th>\n",
              "    </tr>\n",
              "    <tr>\n",
              "      <th>id</th>\n",
              "      <th></th>\n",
              "      <th></th>\n",
              "      <th></th>\n",
              "      <th></th>\n",
              "      <th></th>\n",
              "      <th></th>\n",
              "      <th></th>\n",
              "      <th></th>\n",
              "      <th></th>\n",
              "      <th></th>\n",
              "      <th></th>\n",
              "      <th></th>\n",
              "      <th></th>\n",
              "      <th></th>\n",
              "      <th></th>\n",
              "      <th></th>\n",
              "      <th></th>\n",
              "      <th></th>\n",
              "      <th></th>\n",
              "      <th></th>\n",
              "      <th></th>\n",
              "    </tr>\n",
              "  </thead>\n",
              "  <tbody>\n",
              "  </tbody>\n",
              "</table>\n",
              "<p>0 rows × 29 columns</p>\n",
              "</div>\n",
              "      <button class=\"colab-df-convert\" onclick=\"convertToInteractive('df-97c31154-e5f3-4370-81c7-58273c69da91')\"\n",
              "              title=\"Convert this dataframe to an interactive table.\"\n",
              "              style=\"display:none;\">\n",
              "        \n",
              "  <svg xmlns=\"http://www.w3.org/2000/svg\" height=\"24px\"viewBox=\"0 0 24 24\"\n",
              "       width=\"24px\">\n",
              "    <path d=\"M0 0h24v24H0V0z\" fill=\"none\"/>\n",
              "    <path d=\"M18.56 5.44l.94 2.06.94-2.06 2.06-.94-2.06-.94-.94-2.06-.94 2.06-2.06.94zm-11 1L8.5 8.5l.94-2.06 2.06-.94-2.06-.94L8.5 2.5l-.94 2.06-2.06.94zm10 10l.94 2.06.94-2.06 2.06-.94-2.06-.94-.94-2.06-.94 2.06-2.06.94z\"/><path d=\"M17.41 7.96l-1.37-1.37c-.4-.4-.92-.59-1.43-.59-.52 0-1.04.2-1.43.59L10.3 9.45l-7.72 7.72c-.78.78-.78 2.05 0 2.83L4 21.41c.39.39.9.59 1.41.59.51 0 1.02-.2 1.41-.59l7.78-7.78 2.81-2.81c.8-.78.8-2.07 0-2.86zM5.41 20L4 18.59l7.72-7.72 1.47 1.35L5.41 20z\"/>\n",
              "  </svg>\n",
              "      </button>\n",
              "      \n",
              "  <style>\n",
              "    .colab-df-container {\n",
              "      display:flex;\n",
              "      flex-wrap:wrap;\n",
              "      gap: 12px;\n",
              "    }\n",
              "\n",
              "    .colab-df-convert {\n",
              "      background-color: #E8F0FE;\n",
              "      border: none;\n",
              "      border-radius: 50%;\n",
              "      cursor: pointer;\n",
              "      display: none;\n",
              "      fill: #1967D2;\n",
              "      height: 32px;\n",
              "      padding: 0 0 0 0;\n",
              "      width: 32px;\n",
              "    }\n",
              "\n",
              "    .colab-df-convert:hover {\n",
              "      background-color: #E2EBFA;\n",
              "      box-shadow: 0px 1px 2px rgba(60, 64, 67, 0.3), 0px 1px 3px 1px rgba(60, 64, 67, 0.15);\n",
              "      fill: #174EA6;\n",
              "    }\n",
              "\n",
              "    [theme=dark] .colab-df-convert {\n",
              "      background-color: #3B4455;\n",
              "      fill: #D2E3FC;\n",
              "    }\n",
              "\n",
              "    [theme=dark] .colab-df-convert:hover {\n",
              "      background-color: #434B5C;\n",
              "      box-shadow: 0px 1px 3px 1px rgba(0, 0, 0, 0.15);\n",
              "      filter: drop-shadow(0px 1px 2px rgba(0, 0, 0, 0.3));\n",
              "      fill: #FFFFFF;\n",
              "    }\n",
              "  </style>\n",
              "\n",
              "      <script>\n",
              "        const buttonEl =\n",
              "          document.querySelector('#df-97c31154-e5f3-4370-81c7-58273c69da91 button.colab-df-convert');\n",
              "        buttonEl.style.display =\n",
              "          google.colab.kernel.accessAllowed ? 'block' : 'none';\n",
              "\n",
              "        async function convertToInteractive(key) {\n",
              "          const element = document.querySelector('#df-97c31154-e5f3-4370-81c7-58273c69da91');\n",
              "          const dataTable =\n",
              "            await google.colab.kernel.invokeFunction('convertToInteractive',\n",
              "                                                     [key], {});\n",
              "          if (!dataTable) return;\n",
              "\n",
              "          const docLinkHtml = 'Like what you see? Visit the ' +\n",
              "            '<a target=\"_blank\" href=https://colab.research.google.com/notebooks/data_table.ipynb>data table notebook</a>'\n",
              "            + ' to learn more about interactive tables.';\n",
              "          element.innerHTML = '';\n",
              "          dataTable['output_type'] = 'display_data';\n",
              "          await google.colab.output.renderOutput(dataTable, element);\n",
              "          const docLink = document.createElement('div');\n",
              "          docLink.innerHTML = docLinkHtml;\n",
              "          element.appendChild(docLink);\n",
              "        }\n",
              "      </script>\n",
              "    </div>\n",
              "  </div>\n",
              "  "
            ]
          },
          "metadata": {},
          "execution_count": 66
        }
      ]
    },
    {
      "cell_type": "code",
      "source": [
        "train[train['longitude'] ==0]"
      ],
      "metadata": {
        "id": "OQsjJnHNIFwC",
        "colab": {
          "base_uri": "https://localhost:8080/",
          "height": 174
        },
        "outputId": "d71bb4aa-4295-4cbe-9bc7-3a79b29074d8"
      },
      "execution_count": 67,
      "outputs": [
        {
          "output_type": "execute_result",
          "data": {
            "text/plain": [
              "Empty DataFrame\n",
              "Columns: [amount_tsh, gps_height, longitude, latitude, basin, region, region_code, district_code, population, public_meeting, scheme_management, permit, construction_year, extraction_type, extraction_type_group, extraction_type_class, management, management_group, payment, payment_type, water_quality, quality_group, quantity, source, source_type, source_class, waterpoint_type, waterpoint_type_group, status_group]\n",
              "Index: []\n",
              "\n",
              "[0 rows x 29 columns]"
            ],
            "text/html": [
              "\n",
              "  <div id=\"df-610720ce-03bf-4a87-9edb-a3ad77684213\">\n",
              "    <div class=\"colab-df-container\">\n",
              "      <div>\n",
              "<style scoped>\n",
              "    .dataframe tbody tr th:only-of-type {\n",
              "        vertical-align: middle;\n",
              "    }\n",
              "\n",
              "    .dataframe tbody tr th {\n",
              "        vertical-align: top;\n",
              "    }\n",
              "\n",
              "    .dataframe thead th {\n",
              "        text-align: right;\n",
              "    }\n",
              "</style>\n",
              "<table border=\"1\" class=\"dataframe\">\n",
              "  <thead>\n",
              "    <tr style=\"text-align: right;\">\n",
              "      <th></th>\n",
              "      <th>amount_tsh</th>\n",
              "      <th>gps_height</th>\n",
              "      <th>longitude</th>\n",
              "      <th>latitude</th>\n",
              "      <th>basin</th>\n",
              "      <th>region</th>\n",
              "      <th>region_code</th>\n",
              "      <th>district_code</th>\n",
              "      <th>population</th>\n",
              "      <th>public_meeting</th>\n",
              "      <th>...</th>\n",
              "      <th>payment_type</th>\n",
              "      <th>water_quality</th>\n",
              "      <th>quality_group</th>\n",
              "      <th>quantity</th>\n",
              "      <th>source</th>\n",
              "      <th>source_type</th>\n",
              "      <th>source_class</th>\n",
              "      <th>waterpoint_type</th>\n",
              "      <th>waterpoint_type_group</th>\n",
              "      <th>status_group</th>\n",
              "    </tr>\n",
              "    <tr>\n",
              "      <th>id</th>\n",
              "      <th></th>\n",
              "      <th></th>\n",
              "      <th></th>\n",
              "      <th></th>\n",
              "      <th></th>\n",
              "      <th></th>\n",
              "      <th></th>\n",
              "      <th></th>\n",
              "      <th></th>\n",
              "      <th></th>\n",
              "      <th></th>\n",
              "      <th></th>\n",
              "      <th></th>\n",
              "      <th></th>\n",
              "      <th></th>\n",
              "      <th></th>\n",
              "      <th></th>\n",
              "      <th></th>\n",
              "      <th></th>\n",
              "      <th></th>\n",
              "      <th></th>\n",
              "    </tr>\n",
              "  </thead>\n",
              "  <tbody>\n",
              "  </tbody>\n",
              "</table>\n",
              "<p>0 rows × 29 columns</p>\n",
              "</div>\n",
              "      <button class=\"colab-df-convert\" onclick=\"convertToInteractive('df-610720ce-03bf-4a87-9edb-a3ad77684213')\"\n",
              "              title=\"Convert this dataframe to an interactive table.\"\n",
              "              style=\"display:none;\">\n",
              "        \n",
              "  <svg xmlns=\"http://www.w3.org/2000/svg\" height=\"24px\"viewBox=\"0 0 24 24\"\n",
              "       width=\"24px\">\n",
              "    <path d=\"M0 0h24v24H0V0z\" fill=\"none\"/>\n",
              "    <path d=\"M18.56 5.44l.94 2.06.94-2.06 2.06-.94-2.06-.94-.94-2.06-.94 2.06-2.06.94zm-11 1L8.5 8.5l.94-2.06 2.06-.94-2.06-.94L8.5 2.5l-.94 2.06-2.06.94zm10 10l.94 2.06.94-2.06 2.06-.94-2.06-.94-.94-2.06-.94 2.06-2.06.94z\"/><path d=\"M17.41 7.96l-1.37-1.37c-.4-.4-.92-.59-1.43-.59-.52 0-1.04.2-1.43.59L10.3 9.45l-7.72 7.72c-.78.78-.78 2.05 0 2.83L4 21.41c.39.39.9.59 1.41.59.51 0 1.02-.2 1.41-.59l7.78-7.78 2.81-2.81c.8-.78.8-2.07 0-2.86zM5.41 20L4 18.59l7.72-7.72 1.47 1.35L5.41 20z\"/>\n",
              "  </svg>\n",
              "      </button>\n",
              "      \n",
              "  <style>\n",
              "    .colab-df-container {\n",
              "      display:flex;\n",
              "      flex-wrap:wrap;\n",
              "      gap: 12px;\n",
              "    }\n",
              "\n",
              "    .colab-df-convert {\n",
              "      background-color: #E8F0FE;\n",
              "      border: none;\n",
              "      border-radius: 50%;\n",
              "      cursor: pointer;\n",
              "      display: none;\n",
              "      fill: #1967D2;\n",
              "      height: 32px;\n",
              "      padding: 0 0 0 0;\n",
              "      width: 32px;\n",
              "    }\n",
              "\n",
              "    .colab-df-convert:hover {\n",
              "      background-color: #E2EBFA;\n",
              "      box-shadow: 0px 1px 2px rgba(60, 64, 67, 0.3), 0px 1px 3px 1px rgba(60, 64, 67, 0.15);\n",
              "      fill: #174EA6;\n",
              "    }\n",
              "\n",
              "    [theme=dark] .colab-df-convert {\n",
              "      background-color: #3B4455;\n",
              "      fill: #D2E3FC;\n",
              "    }\n",
              "\n",
              "    [theme=dark] .colab-df-convert:hover {\n",
              "      background-color: #434B5C;\n",
              "      box-shadow: 0px 1px 3px 1px rgba(0, 0, 0, 0.15);\n",
              "      filter: drop-shadow(0px 1px 2px rgba(0, 0, 0, 0.3));\n",
              "      fill: #FFFFFF;\n",
              "    }\n",
              "  </style>\n",
              "\n",
              "      <script>\n",
              "        const buttonEl =\n",
              "          document.querySelector('#df-610720ce-03bf-4a87-9edb-a3ad77684213 button.colab-df-convert');\n",
              "        buttonEl.style.display =\n",
              "          google.colab.kernel.accessAllowed ? 'block' : 'none';\n",
              "\n",
              "        async function convertToInteractive(key) {\n",
              "          const element = document.querySelector('#df-610720ce-03bf-4a87-9edb-a3ad77684213');\n",
              "          const dataTable =\n",
              "            await google.colab.kernel.invokeFunction('convertToInteractive',\n",
              "                                                     [key], {});\n",
              "          if (!dataTable) return;\n",
              "\n",
              "          const docLinkHtml = 'Like what you see? Visit the ' +\n",
              "            '<a target=\"_blank\" href=https://colab.research.google.com/notebooks/data_table.ipynb>data table notebook</a>'\n",
              "            + ' to learn more about interactive tables.';\n",
              "          element.innerHTML = '';\n",
              "          dataTable['output_type'] = 'display_data';\n",
              "          await google.colab.output.renderOutput(dataTable, element);\n",
              "          const docLink = document.createElement('div');\n",
              "          docLink.innerHTML = docLinkHtml;\n",
              "          element.appendChild(docLink);\n",
              "        }\n",
              "      </script>\n",
              "    </div>\n",
              "  </div>\n",
              "  "
            ]
          },
          "metadata": {},
          "execution_count": 67
        }
      ]
    },
    {
      "cell_type": "code",
      "source": [
        "train.head(100).T.duplicated()"
      ],
      "metadata": {
        "colab": {
          "base_uri": "https://localhost:8080/"
        },
        "id": "9LrkE_fOjCaa",
        "outputId": "3627f333-c361-4880-8d63-0bd515619b7f"
      },
      "execution_count": 68,
      "outputs": [
        {
          "output_type": "execute_result",
          "data": {
            "text/plain": [
              "amount_tsh               False\n",
              "gps_height               False\n",
              "longitude                False\n",
              "latitude                 False\n",
              "basin                    False\n",
              "region                   False\n",
              "region_code              False\n",
              "district_code            False\n",
              "population               False\n",
              "public_meeting           False\n",
              "scheme_management        False\n",
              "permit                   False\n",
              "construction_year        False\n",
              "extraction_type          False\n",
              "extraction_type_group    False\n",
              "extraction_type_class    False\n",
              "management               False\n",
              "management_group         False\n",
              "payment                  False\n",
              "payment_type             False\n",
              "water_quality            False\n",
              "quality_group            False\n",
              "quantity                 False\n",
              "source                   False\n",
              "source_type              False\n",
              "source_class             False\n",
              "waterpoint_type          False\n",
              "waterpoint_type_group    False\n",
              "status_group             False\n",
              "dtype: bool"
            ]
          },
          "metadata": {},
          "execution_count": 68
        }
      ]
    },
    {
      "cell_type": "markdown",
      "metadata": {
        "id": "jetWccxMqmzY"
      },
      "source": [
        "# II. Split Data"
      ]
    },
    {
      "cell_type": "markdown",
      "metadata": {
        "id": "y-MPA0qlr-mK"
      },
      "source": [
        "## Split TV from FM"
      ]
    },
    {
      "cell_type": "code",
      "metadata": {
        "id": "JsquPmP26y7h"
      },
      "source": [
        "target = 'status_group'\n",
        "y = train[target]\n",
        "X = train.drop(columns=target)"
      ],
      "execution_count": 69,
      "outputs": []
    },
    {
      "cell_type": "markdown",
      "metadata": {
        "id": "n8jSWomGsLsw"
      },
      "source": [
        "## Training-Validation Split"
      ]
    },
    {
      "cell_type": "code",
      "metadata": {
        "id": "bXikcdMD2vON"
      },
      "source": [
        "X_train, X_val, y_train, y_val = train_test_split(X, y, test_size=.2, random_state=42)"
      ],
      "execution_count": 70,
      "outputs": []
    },
    {
      "cell_type": "markdown",
      "metadata": {
        "id": "WX9uvMMgs6J_"
      },
      "source": [
        "# III. Establish Baseline\n",
        "\n",
        "- Is this a *regression* or a *classification* problem?"
      ]
    },
    {
      "cell_type": "code",
      "metadata": {
        "id": "g9i5ZQxcwJ3u"
      },
      "source": [],
      "execution_count": 70,
      "outputs": []
    },
    {
      "cell_type": "code",
      "metadata": {
        "id": "oTW9yRjI2wzD",
        "colab": {
          "base_uri": "https://localhost:8080/"
        },
        "outputId": "b6088ab3-6ba0-41ad-ed2e-5cf06e1130a4"
      },
      "source": [
        "print('baseline accuracy:',y_train.value_counts(normalize=True).max())"
      ],
      "execution_count": 71,
      "outputs": [
        {
          "output_type": "stream",
          "name": "stdout",
          "text": [
            "baseline accuracy: 0.5425489938182296\n"
          ]
        }
      ]
    },
    {
      "cell_type": "markdown",
      "metadata": {
        "id": "MA19NsrFtgTT"
      },
      "source": [
        "# IV. Build Model(s)"
      ]
    },
    {
      "cell_type": "markdown",
      "metadata": {
        "id": "Q2_AEFsZKGCK"
      },
      "source": [
        "**First Model:** Logistic Regression"
      ]
    },
    {
      "cell_type": "code",
      "metadata": {
        "id": "wRziCiGa2ynR",
        "colab": {
          "base_uri": "https://localhost:8080/"
        },
        "outputId": "a150af3d-229c-4e4e-fd93-479e7d1b3220"
      },
      "source": [
        "model_lr = make_pipeline(\n",
        "    OneHotEncoder(use_cat_names=True),\n",
        "    SimpleImputer(strategy='mean'),\n",
        "    StandardScaler(),\n",
        "    LogisticRegression(max_iter=200)\n",
        ")\n",
        "\n",
        "model_lr.fit(X_train, y_train)"
      ],
      "execution_count": 72,
      "outputs": [
        {
          "output_type": "execute_result",
          "data": {
            "text/plain": [
              "Pipeline(steps=[('onehotencoder',\n",
              "                 OneHotEncoder(cols=['basin', 'region', 'public_meeting',\n",
              "                                     'scheme_management', 'permit',\n",
              "                                     'extraction_type', 'extraction_type_group',\n",
              "                                     'extraction_type_class', 'management',\n",
              "                                     'management_group', 'payment',\n",
              "                                     'payment_type', 'water_quality',\n",
              "                                     'quality_group', 'quantity', 'source',\n",
              "                                     'source_type', 'source_class',\n",
              "                                     'waterpoint_type',\n",
              "                                     'waterpoint_type_group'],\n",
              "                               use_cat_names=True)),\n",
              "                ('simpleimputer', SimpleImputer()),\n",
              "                ('standardscaler', StandardScaler()),\n",
              "                ('logisticregression', LogisticRegression(max_iter=200))])"
            ]
          },
          "metadata": {},
          "execution_count": 72
        }
      ]
    },
    {
      "cell_type": "markdown",
      "metadata": {
        "id": "AMFtqMtkMbRw"
      },
      "source": [
        "**Second Model:** Decision Tree Classifier"
      ]
    },
    {
      "cell_type": "code",
      "metadata": {
        "id": "ukHNb4IND00z",
        "colab": {
          "base_uri": "https://localhost:8080/"
        },
        "outputId": "cd6f2124-abc4-42c1-a02a-9f46250dfa8d"
      },
      "source": [
        "model_dt = make_pipeline(\n",
        "    OrdinalEncoder(),\n",
        "    SimpleImputer(strategy='mean'),\n",
        "    DecisionTreeClassifier(random_state=42, max_depth=16)\n",
        ")\n",
        "\n",
        "model_dt.fit(X_train, y_train)"
      ],
      "execution_count": 81,
      "outputs": [
        {
          "output_type": "execute_result",
          "data": {
            "text/plain": [
              "Pipeline(steps=[('ordinalencoder',\n",
              "                 OrdinalEncoder(cols=['basin', 'region', 'public_meeting',\n",
              "                                      'scheme_management', 'permit',\n",
              "                                      'extraction_type',\n",
              "                                      'extraction_type_group',\n",
              "                                      'extraction_type_class', 'management',\n",
              "                                      'management_group', 'payment',\n",
              "                                      'payment_type', 'water_quality',\n",
              "                                      'quality_group', 'quantity', 'source',\n",
              "                                      'source_type', 'source_class',\n",
              "                                      'waterpoint_type',\n",
              "                                      'waterpoin...\n",
              "communal standpipe             2\n",
              "communal standpipe multiple    3\n",
              "improved spring                4\n",
              "other                          5\n",
              "cattle trough                  6\n",
              "dam                            7\n",
              "NaN                           -2\n",
              "dtype: int64},\n",
              "                                         {'col': 'waterpoint_type_group',\n",
              "                                          'data_type': dtype('O'),\n",
              "                                          'mapping': hand pump             1\n",
              "communal standpipe    2\n",
              "improved spring       3\n",
              "other                 4\n",
              "cattle trough         5\n",
              "dam                   6\n",
              "NaN                  -2\n",
              "dtype: int64}])),\n",
              "                ('simpleimputer', SimpleImputer()),\n",
              "                ('decisiontreeclassifier',\n",
              "                 DecisionTreeClassifier(max_depth=16, random_state=42))])"
            ]
          },
          "metadata": {},
          "execution_count": 81
        }
      ]
    },
    {
      "cell_type": "markdown",
      "metadata": {
        "id": "D63CwGlVvtSu"
      },
      "source": [
        "**Interlude: How does a tree model work?**"
      ]
    },
    {
      "cell_type": "code",
      "metadata": {
        "id": "k5gp7tIowkDB",
        "colab": {
          "base_uri": "https://localhost:8080/",
          "height": 566
        },
        "outputId": "d15d8042-97d6-46f4-da55-4f41612a2b51"
      },
      "source": [
        "plt.figure(figsize=(60,15))\n",
        "plot_tree(model_dt.named_steps['decisiontreeclassifier'],\n",
        "          max_depth=2,\n",
        "          feature_names=X_train.columns,\n",
        "          filled=True)"
      ],
      "execution_count": 74,
      "outputs": [
        {
          "output_type": "execute_result",
          "data": {
            "text/plain": [
              "[Text(0.5, 0.875, 'quantity <= 1.5\\ngini = 0.553\\nsamples = 38015\\nvalue = [20625, 2779, 14611]'),\n",
              " Text(0.25, 0.625, 'region <= 1.5\\ngini = 0.063\\nsamples = 4056\\nvalue = [104, 27, 3925]'),\n",
              " Text(0.125, 0.375, 'longitude <= 32.736\\ngini = 0.257\\nsamples = 232\\nvalue = [34, 1, 197]'),\n",
              " Text(0.0625, 0.125, '\\n  (...)  \\n'),\n",
              " Text(0.1875, 0.125, '\\n  (...)  \\n'),\n",
              " Text(0.375, 0.375, 'construction_year <= 2011.5\\ngini = 0.049\\nsamples = 3824\\nvalue = [70, 26, 3728]'),\n",
              " Text(0.3125, 0.125, '\\n  (...)  \\n'),\n",
              " Text(0.4375, 0.125, '\\n  (...)  \\n'),\n",
              " Text(0.75, 0.625, 'waterpoint_type_group <= 3.5\\ngini = 0.529\\nsamples = 33959\\nvalue = [20521, 2752, 10686]'),\n",
              " Text(0.625, 0.375, 'payment <= 2.5\\ngini = 0.5\\nsamples = 30704\\nvalue = [19932, 2564, 8208]'),\n",
              " Text(0.5625, 0.125, '\\n  (...)  \\n'),\n",
              " Text(0.6875, 0.125, '\\n  (...)  \\n'),\n",
              " Text(0.875, 0.375, 'extraction_type_class <= 3.5\\ngini = 0.384\\nsamples = 3255\\nvalue = [589, 188, 2478]'),\n",
              " Text(0.8125, 0.125, '\\n  (...)  \\n'),\n",
              " Text(0.9375, 0.125, '\\n  (...)  \\n')]"
            ]
          },
          "metadata": {},
          "execution_count": 74
        },
        {
          "output_type": "display_data",
          "data": {
            "text/plain": [
              "<Figure size 4320x1080 with 1 Axes>"
            ],
            "image/png": "[encoded data removed]"
          },
          "metadata": {
            "needs_background": "light"
          }
        }
      ]
    },
    {
      "cell_type": "code",
      "metadata": {
        "id": "66LHM-tGwTP7"
      },
      "source": [],
      "execution_count": null,
      "outputs": []
    },
    {
      "cell_type": "markdown",
      "metadata": {
        "id": "v7Cr2n7Vu9cb"
      },
      "source": [
        "# V. Check Metrics"
      ]
    },
    {
      "cell_type": "code",
      "metadata": {
        "id": "vmjtTct2IoXk",
        "colab": {
          "base_uri": "https://localhost:8080/"
        },
        "outputId": "b1efc5c2-e634-427e-d1e5-eb163d864f6c"
      },
      "source": [
        "print('model_lr accuracy score for training',accuracy_score(y_train, model_lr.predict(X_train)))\n",
        "print('model_lr accuracy score for val',accuracy_score(y_val, model_lr.predict(X_val)) )"
      ],
      "execution_count": 48,
      "outputs": [
        {
          "output_type": "stream",
          "name": "stdout",
          "text": [
            "model_lr accuracy score for training 0.7387347099829015\n",
            "model_lr accuracy score for val 0.7322180134680135\n"
          ]
        }
      ]
    },
    {
      "cell_type": "code",
      "metadata": {
        "id": "DUix0NCRNUO-",
        "colab": {
          "base_uri": "https://localhost:8080/"
        },
        "outputId": "8d3d33ce-a9d3-4bb8-c552-0c7944d6cc97"
      },
      "source": [
        "\n",
        "print('model_dt accuracy score for training',accuracy_score(y_train, model_dt.predict(X_train)) )\n",
        "print('model_dt accuracy score for val',accuracy_score(y_val, model_dt.predict(X_val)) )"
      ],
      "execution_count": 76,
      "outputs": [
        {
          "output_type": "stream",
          "name": "stdout",
          "text": [
            "model_dt accuracy score for training 0.995475470209128\n",
            "model_dt accuracy score for val 0.7411616161616161\n"
          ]
        }
      ]
    },
    {
      "cell_type": "code",
      "source": [
        "print('model_dt accuracy score for training',accuracy_score(y_train, model_dt.predict(X_train)) )\n",
        "print('model_dt accuracy score for val',accuracy_score(y_val, model_dt.predict(X_val)) )"
      ],
      "metadata": {
        "colab": {
          "base_uri": "https://localhost:8080/"
        },
        "id": "Xxa3E3xtyqP2",
        "outputId": "5860e6f7-47af-4eeb-ca38-814da427dedf"
      },
      "execution_count": 82,
      "outputs": [
        {
          "output_type": "stream",
          "name": "stdout",
          "text": [
            "model_dt accuracy score for training 0.8781007497040642\n",
            "model_dt accuracy score for val 0.7639941077441077\n"
          ]
        }
      ]
    },
    {
      "cell_type": "markdown",
      "metadata": {
        "id": "gln6sVSS4ZmQ"
      },
      "source": [
        "# VI. Tune Model"
      ]
    },
    {
      "cell_type": "code",
      "source": [
        "model_dt.named_steps['decisiontreeclassifier'].get_depth()"
      ],
      "metadata": {
        "colab": {
          "base_uri": "https://localhost:8080/"
        },
        "id": "f-cTObTZtkF_",
        "outputId": "945fa2d3-6601-4ce8-a199-9fbb2e8199bc"
      },
      "execution_count": 77,
      "outputs": [
        {
          "output_type": "execute_result",
          "data": {
            "text/plain": [
              "38"
            ]
          },
          "metadata": {},
          "execution_count": 77
        }
      ]
    },
    {
      "cell_type": "code",
      "metadata": {
        "id": "vvDNrDeqx2Av",
        "colab": {
          "base_uri": "https://localhost:8080/"
        },
        "outputId": "adaefa5a-4d94-4f77-e775-a16981a996de"
      },
      "source": [
        "depths = range(5, 20, 2)\n",
        "list(depths)"
      ],
      "execution_count": 78,
      "outputs": [
        {
          "output_type": "execute_result",
          "data": {
            "text/plain": [
              "[5, 7, 9, 11, 13, 15, 17, 19]"
            ]
          },
          "metadata": {},
          "execution_count": 78
        }
      ]
    },
    {
      "cell_type": "code",
      "metadata": {
        "id": "YCEP2xq0TcuG"
      },
      "source": [
        "# very similar steps to how we tuned alpha for ridge regression\n",
        "\n",
        "train_acc = []\n",
        "val_acc = []\n",
        "\n",
        "for depth in depths:\n",
        "  tree_model = make_pipeline(\n",
        "      OrdinalEncoder(),\n",
        "      SimpleImputer(),\n",
        "      DecisionTreeClassifier(max_depth=depth, random_state=42)\n",
        "                    \n",
        "  )\n",
        "  \n",
        "  \n",
        "  tree_model.fit(X_train, y_train)\n",
        "  train_acc.append(tree_model.score(X_train, y_train))\n",
        "  val_acc.append(tree_model.score(X_val, y_val))"
      ],
      "execution_count": 79,
      "outputs": []
    },
    {
      "cell_type": "code",
      "metadata": {
        "id": "nckQirvjapf2",
        "colab": {
          "base_uri": "https://localhost:8080/",
          "height": 296
        },
        "outputId": "0e728df2-9e99-4023-a8dd-3d597bc24111"
      },
      "source": [
        "\n",
        "plt.plot(depths, train_acc, color='blue', label='training')\n",
        "plt.plot(depths, val_acc, color='orange', label='validation')\n",
        "plt.xlabel('max_depth')\n",
        "plt.ylabel('accuracy')\n",
        "plt.title('Validation Curves') # These plots are called VALIDATION CURVES! \n",
        "plt.legend()\n",
        "plt.show()"
      ],
      "execution_count": 80,
      "outputs": [
        {
          "output_type": "display_data",
          "data": {
            "text/plain": [
              "<Figure size 432x288 with 1 Axes>"
            ],
            "image/png": "[encoded data removed]"
          },
          "metadata": {
            "needs_background": "light"
          }
        }
      ]
    },
    {
      "cell_type": "markdown",
      "metadata": {
        "id": "syHY33Wr2O9F"
      },
      "source": [
        "# VII. Communicate Results\n"
      ]
    },
    {
      "cell_type": "markdown",
      "metadata": {
        "id": "4BXV7dsiUhyo"
      },
      "source": [
        "### Gini importance"
      ]
    },
    {
      "cell_type": "code",
      "metadata": {
        "id": "D0RpRkqalde9",
        "colab": {
          "base_uri": "https://localhost:8080/",
          "height": 279
        },
        "outputId": "db113f89-90ac-46eb-d5b0-3d40cbcfbfc2"
      },
      "source": [
        "features = model_dt.named_steps['ordinalencoder'].get_feature_names()\n",
        "gini_importances = model_dt.named_steps['decisiontreeclassifier'].feature_importances_\n",
        "pd.Series(data=gini_importances, index=features).sort_values(key=abs).tail(10).plot(kind='barh')\n",
        "plt.ylabel('features')\n",
        "plt.xlabel('gini importance');"
      ],
      "execution_count": 83,
      "outputs": [
        {
          "output_type": "display_data",
          "data": {
            "text/plain": [
              "<Figure size 432x288 with 1 Axes>"
            ],
            "image/png": "[encoded data removed]"
          },
          "metadata": {
            "needs_background": "light"
          }
        }
      ]
    },
    {
      "cell_type": "markdown",
      "metadata": {
        "id": "SG9I4zGa-r5S"
      },
      "source": [
        "# VIII. Kaggle Submission"
      ]
    },
    {
      "cell_type": "code",
      "metadata": {
        "id": "DhcwcQRylmfY"
      },
      "source": [
        "predictions = pd.DataFrame(data=model_lr.predict(X_test), index=X_test.index)"
      ],
      "execution_count": 84,
      "outputs": []
    },
    {
      "cell_type": "code",
      "metadata": {
        "id": "xi6HV3GBlqVV"
      },
      "source": [
        "predictions.columns = ['status_group']"
      ],
      "execution_count": 85,
      "outputs": []
    },
    {
      "cell_type": "code",
      "source": [
        "predictions"
      ],
      "metadata": {
        "id": "HUorQNw51cYF",
        "colab": {
          "base_uri": "https://localhost:8080/",
          "height": 455
        },
        "outputId": "192e3680-3712-44e9-d534-47c74b4f8122"
      },
      "execution_count": 86,
      "outputs": [
        {
          "output_type": "execute_result",
          "data": {
            "text/plain": [
              "         status_group\n",
              "id                   \n",
              "37098  non functional\n",
              "14530      functional\n",
              "62607      functional\n",
              "46053  non functional\n",
              "47083      functional\n",
              "...               ...\n",
              "26092      functional\n",
              "919        functional\n",
              "47444  non functional\n",
              "61128      functional\n",
              "8075       functional\n",
              "\n",
              "[11880 rows x 1 columns]"
            ],
            "text/html": [
              "\n",
              "  <div id=\"df-42172718-feff-4165-adb1-94de4ea4b986\">\n",
              "    <div class=\"colab-df-container\">\n",
              "      <div>\n",
              "<style scoped>\n",
              "    .dataframe tbody tr th:only-of-type {\n",
              "        vertical-align: middle;\n",
              "    }\n",
              "\n",
              "    .dataframe tbody tr th {\n",
              "        vertical-align: top;\n",
              "    }\n",
              "\n",
              "    .dataframe thead th {\n",
              "        text-align: right;\n",
              "    }\n",
              "</style>\n",
              "<table border=\"1\" class=\"dataframe\">\n",
              "  <thead>\n",
              "    <tr style=\"text-align: right;\">\n",
              "      <th></th>\n",
              "      <th>status_group</th>\n",
              "    </tr>\n",
              "    <tr>\n",
              "      <th>id</th>\n",
              "      <th></th>\n",
              "    </tr>\n",
              "  </thead>\n",
              "  <tbody>\n",
              "    <tr>\n",
              "      <th>37098</th>\n",
              "      <td>non functional</td>\n",
              "    </tr>\n",
              "    <tr>\n",
              "      <th>14530</th>\n",
              "      <td>functional</td>\n",
              "    </tr>\n",
              "    <tr>\n",
              "      <th>62607</th>\n",
              "      <td>functional</td>\n",
              "    </tr>\n",
              "    <tr>\n",
              "      <th>46053</th>\n",
              "      <td>non functional</td>\n",
              "    </tr>\n",
              "    <tr>\n",
              "      <th>47083</th>\n",
              "      <td>functional</td>\n",
              "    </tr>\n",
              "    <tr>\n",
              "      <th>...</th>\n",
              "      <td>...</td>\n",
              "    </tr>\n",
              "    <tr>\n",
              "      <th>26092</th>\n",
              "      <td>functional</td>\n",
              "    </tr>\n",
              "    <tr>\n",
              "      <th>919</th>\n",
              "      <td>functional</td>\n",
              "    </tr>\n",
              "    <tr>\n",
              "      <th>47444</th>\n",
              "      <td>non functional</td>\n",
              "    </tr>\n",
              "    <tr>\n",
              "      <th>61128</th>\n",
              "      <td>functional</td>\n",
              "    </tr>\n",
              "    <tr>\n",
              "      <th>8075</th>\n",
              "      <td>functional</td>\n",
              "    </tr>\n",
              "  </tbody>\n",
              "</table>\n",
              "<p>11880 rows × 1 columns</p>\n",
              "</div>\n",
              "      <button class=\"colab-df-convert\" onclick=\"convertToInteractive('df-42172718-feff-4165-adb1-94de4ea4b986')\"\n",
              "              title=\"Convert this dataframe to an interactive table.\"\n",
              "              style=\"display:none;\">\n",
              "        \n",
              "  <svg xmlns=\"http://www.w3.org/2000/svg\" height=\"24px\"viewBox=\"0 0 24 24\"\n",
              "       width=\"24px\">\n",
              "    <path d=\"M0 0h24v24H0V0z\" fill=\"none\"/>\n",
              "    <path d=\"M18.56 5.44l.94 2.06.94-2.06 2.06-.94-2.06-.94-.94-2.06-.94 2.06-2.06.94zm-11 1L8.5 8.5l.94-2.06 2.06-.94-2.06-.94L8.5 2.5l-.94 2.06-2.06.94zm10 10l.94 2.06.94-2.06 2.06-.94-2.06-.94-.94-2.06-.94 2.06-2.06.94z\"/><path d=\"M17.41 7.96l-1.37-1.37c-.4-.4-.92-.59-1.43-.59-.52 0-1.04.2-1.43.59L10.3 9.45l-7.72 7.72c-.78.78-.78 2.05 0 2.83L4 21.41c.39.39.9.59 1.41.59.51 0 1.02-.2 1.41-.59l7.78-7.78 2.81-2.81c.8-.78.8-2.07 0-2.86zM5.41 20L4 18.59l7.72-7.72 1.47 1.35L5.41 20z\"/>\n",
              "  </svg>\n",
              "      </button>\n",
              "      \n",
              "  <style>\n",
              "    .colab-df-container {\n",
              "      display:flex;\n",
              "      flex-wrap:wrap;\n",
              "      gap: 12px;\n",
              "    }\n",
              "\n",
              "    .colab-df-convert {\n",
              "      background-color: #E8F0FE;\n",
              "      border: none;\n",
              "      border-radius: 50%;\n",
              "      cursor: pointer;\n",
              "      display: none;\n",
              "      fill: #1967D2;\n",
              "      height: 32px;\n",
              "      padding: 0 0 0 0;\n",
              "      width: 32px;\n",
              "    }\n",
              "\n",
              "    .colab-df-convert:hover {\n",
              "      background-color: #E2EBFA;\n",
              "      box-shadow: 0px 1px 2px rgba(60, 64, 67, 0.3), 0px 1px 3px 1px rgba(60, 64, 67, 0.15);\n",
              "      fill: #174EA6;\n",
              "    }\n",
              "\n",
              "    [theme=dark] .colab-df-convert {\n",
              "      background-color: #3B4455;\n",
              "      fill: #D2E3FC;\n",
              "    }\n",
              "\n",
              "    [theme=dark] .colab-df-convert:hover {\n",
              "      background-color: #434B5C;\n",
              "      box-shadow: 0px 1px 3px 1px rgba(0, 0, 0, 0.15);\n",
              "      filter: drop-shadow(0px 1px 2px rgba(0, 0, 0, 0.3));\n",
              "      fill: #FFFFFF;\n",
              "    }\n",
              "  </style>\n",
              "\n",
              "      <script>\n",
              "        const buttonEl =\n",
              "          document.querySelector('#df-42172718-feff-4165-adb1-94de4ea4b986 button.colab-df-convert');\n",
              "        buttonEl.style.display =\n",
              "          google.colab.kernel.accessAllowed ? 'block' : 'none';\n",
              "\n",
              "        async function convertToInteractive(key) {\n",
              "          const element = document.querySelector('#df-42172718-feff-4165-adb1-94de4ea4b986');\n",
              "          const dataTable =\n",
              "            await google.colab.kernel.invokeFunction('convertToInteractive',\n",
              "                                                     [key], {});\n",
              "          if (!dataTable) return;\n",
              "\n",
              "          const docLinkHtml = 'Like what you see? Visit the ' +\n",
              "            '<a target=\"_blank\" href=https://colab.research.google.com/notebooks/data_table.ipynb>data table notebook</a>'\n",
              "            + ' to learn more about interactive tables.';\n",
              "          element.innerHTML = '';\n",
              "          dataTable['output_type'] = 'display_data';\n",
              "          await google.colab.output.renderOutput(dataTable, element);\n",
              "          const docLink = document.createElement('div');\n",
              "          docLink.innerHTML = docLinkHtml;\n",
              "          element.appendChild(docLink);\n",
              "        }\n",
              "      </script>\n",
              "    </div>\n",
              "  </div>\n",
              "  "
            ]
          },
          "metadata": {},
          "execution_count": 86
        }
      ]
    },
    {
      "cell_type": "code",
      "metadata": {
        "id": "aNdxTAd0lswo"
      },
      "source": [
        "# generate CSV\n",
        "predictions.to_csv('new_submission.csv')"
      ],
      "execution_count": 87,
      "outputs": []
    },
    {
      "cell_type": "code",
      "metadata": {
        "colab": {
          "base_uri": "https://localhost:8080/",
          "height": 17
        },
        "id": "z7SOD3a2ltKH",
        "outputId": "d481d225-5954-4f36-8b58-2c0bdc3e365c"
      },
      "source": [
        "# download\n",
        "from google.colab import files\n",
        "files.download(\"new_submission.csv\")"
      ],
      "execution_count": 88,
      "outputs": [
        {
          "output_type": "display_data",
          "data": {
            "text/plain": [
              "<IPython.core.display.Javascript object>"
            ],
            "application/javascript": [
              "\n",
              "    async function download(id, filename, size) {\n",
              "      if (!google.colab.kernel.accessAllowed) {\n",
              "        return;\n",
              "      }\n",
              "      const div = document.createElement('div');\n",
              "      const label = document.createElement('label');\n",
              "      label.textContent = `Downloading \"${filename}\": `;\n",
              "      div.appendChild(label);\n",
              "      const progress = document.createElement('progress');\n",
              "      progress.max = size;\n",
              "      div.appendChild(progress);\n",
              "      document.body.appendChild(div);\n",
              "\n",
              "      const buffers = [];\n",
              "      let downloaded = 0;\n",
              "\n",
              "      const channel = await google.colab.kernel.comms.open(id);\n",
              "      // Send a message to notify the kernel that we're ready.\n",
              "      channel.send({})\n",
              "\n",
              "      for await (const message of channel.messages) {\n",
              "        // Send a message to notify the kernel that we're ready.\n",
              "        channel.send({})\n",
              "        if (message.buffers) {\n",
              "          for (const buffer of message.buffers) {\n",
              "            buffers.push(buffer);\n",
              "            downloaded += buffer.byteLength;\n",
              "            progress.value = downloaded;\n",
              "          }\n",
              "        }\n",
              "      }\n",
              "      const blob = new Blob(buffers, {type: 'application/binary'});\n",
              "      const a = document.createElement('a');\n",
              "      a.href = window.URL.createObjectURL(blob);\n",
              "      a.download = filename;\n",
              "      div.appendChild(a);\n",
              "      a.click();\n",
              "      div.remove();\n",
              "    }\n",
              "  "
            ]
          },
          "metadata": {}
        },
        {
          "output_type": "display_data",
          "data": {
            "text/plain": [
              "<IPython.core.display.Javascript object>"
            ],
            "application/javascript": [
              "download(\"download_1ca4938c-ab13-45ca-935e-8825c13bc91f\", \"new_submission.csv\", 216706)"
            ]
          },
          "metadata": {}
        }
      ]
    }
  ]
}