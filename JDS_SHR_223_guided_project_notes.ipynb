{
  "nbformat": 4,
  "nbformat_minor": 0,
  "metadata": {
    "colab": {
      "provenance": [],
      "include_colab_link": true
    },
    "kernelspec": {
      "display_name": "Python 3",
      "language": "python",
      "name": "python3"
    },
    "language_info": {
      "codemirror_mode": {
        "name": "ipython",
        "version": 3
      },
      "file_extension": ".py",
      "mimetype": "text/x-python",
      "name": "python",
      "nbconvert_exporter": "python",
      "pygments_lexer": "ipython3",
      "version": "3.8.5"
    }
  },
  "cells": [
    {
      "cell_type": "markdown",
      "metadata": {
        "id": "view-in-github",
        "colab_type": "text"
      },
      "source": [
        "<a href=\"https://colab.research.google.com/github/Vasanta2002/sprint_6/blob/main/JDS_SHR_223_guided_project_notes.ipynb\" target=\"_parent\"><img src=\"https://colab.research.google.com/assets/colab-badge.svg\" alt=\"Open In Colab\"/></a>"
      ]
    },
    {
      "cell_type": "markdown",
      "metadata": {
        "id": "RUhphDysw-6P"
      },
      "source": [
        "## BloomTech Data Science\n",
        "\n",
        "---\n"
      ]
    },
    {
      "cell_type": "markdown",
      "metadata": {
        "id": "NvWhcow-dvS8"
      },
      "source": [
        "# Cross-Validation\n",
        "\n",
        "- Do **k-fold cross-validation** with independent test set\n",
        "- Use scikit-learn for **hyperparameter optimization**"
      ]
    },
    {
      "cell_type": "code",
      "metadata": {
        "id": "HRgkCSgGdty-"
      },
      "source": [
        "%%capture\n",
        "!pip install category_encoders==2.*"
      ],
      "execution_count": 1,
      "outputs": []
    },
    {
      "cell_type": "code",
      "metadata": {
        "id": "HF70Jp0x4NJU"
      },
      "source": [
        "from category_encoders import OrdinalEncoder\n",
        "from sklearn.ensemble import RandomForestClassifier\n",
        "from sklearn.model_selection import train_test_split\n",
        "from sklearn.metrics import accuracy_score\n",
        "from sklearn.impute import SimpleImputer\n",
        "from sklearn.model_selection import cross_val_score, validation_curve # k-fold CV\n",
        "from sklearn.model_selection import GridSearchCV, RandomizedSearchCV # Hyperparameter tuning\n",
        "from sklearn.pipeline import make_pipeline\n",
        "from sklearn.tree import DecisionTreeClassifier\n",
        "import numpy as np\n",
        "import pandas as pd\n",
        "import matplotlib.pyplot as plt"
      ],
      "execution_count": 2,
      "outputs": []
    },
    {
      "cell_type": "markdown",
      "metadata": {
        "id": "qVzQtNC9oucF"
      },
      "source": [
        "# Downloading the Tanzania Waterpump Dataset"
      ]
    },
    {
      "cell_type": "markdown",
      "metadata": {
        "id": "0-olXlnJoucR"
      },
      "source": [
        "Make sure  you only use the dataset that is available through the **DS** **Kaggle Competition**. DO NOT USE any other Tanzania waterpump datasets that you might find online.\n",
        "\n",
        "There are two ways you can get the dataset. Make sure you have joined the competition first!:\n",
        "\n",
        "1. You can download the dataset directly by accessing the challenge and the files through the Kaggle Competition URL on Canvas (make sure you have joined the competition!)\n",
        "\n",
        "2. Use the Kaggle API using the code in the following cells. This article provides helpful information on how to fetch your Kaggle Dataset into Google Colab using the Kaggle API. \n",
        "\n",
        "> https://medium.com/analytics-vidhya/how-to-fetch-kaggle-datasets-into-google-colab-ea682569851a"
      ]
    },
    {
      "cell_type": "markdown",
      "metadata": {
        "id": "d6TZ5nDFYkCa"
      },
      "source": [
        "# Using Kaggle API to download datset"
      ]
    },
    {
      "cell_type": "code",
      "metadata": {
        "colab": {
          "base_uri": "https://localhost:8080/"
        },
        "id": "X2e6fPUATxLZ",
        "outputId": "dafa359f-d153-4819-98f9-07cffc67cc67"
      },
      "source": [
        "# mounting your google drive on colab\n",
        "from google.colab import drive\n",
        "drive.mount('/content/gdrive')"
      ],
      "execution_count": 3,
      "outputs": [
        {
          "output_type": "stream",
          "name": "stdout",
          "text": [
            "Mounted at /content/gdrive\n"
          ]
        }
      ]
    },
    {
      "cell_type": "code",
      "metadata": {
        "colab": {
          "base_uri": "https://localhost:8080/"
        },
        "id": "KYSpUv9uYBAo",
        "outputId": "ecc87636-b044-4af9-94fe-9f8274afea8d"
      },
      "source": [
        "#change your working directory, if you want to or have already saved your kaggle dataset on google drive.\n",
        "%cd /content/gdrive/My Drive/Kaggle\n",
        "# update it to your folder location on drive that contians the dataset and/or kaggle API token json file."
      ],
      "execution_count": 4,
      "outputs": [
        {
          "output_type": "stream",
          "name": "stdout",
          "text": [
            "/content/gdrive/My Drive/Kaggle\n"
          ]
        }
      ]
    },
    {
      "cell_type": "code",
      "metadata": {
        "id": "dXChvgdZYb_t"
      },
      "source": [
        "# Download your Kaggle Dataset, if you haven't already done so. \n",
        "# import os\n",
        "# os.environ['KAGGLE_CONFIG_DIR'] = \"/content/gdrive/My Drive/Kaggle\"\n",
        "# !kaggle competitions download -c bloomtech-water-pump-challenge"
      ],
      "execution_count": 5,
      "outputs": []
    },
    {
      "cell_type": "code",
      "metadata": {
        "id": "NB84qgRRYdDF"
      },
      "source": [
        "# Unzip your Kaggle dataset, if you haven't already done so.\n",
        "# !unzip \\*.zip  && rm *.zip"
      ],
      "execution_count": 6,
      "outputs": []
    },
    {
      "cell_type": "code",
      "metadata": {
        "id": "eag2zYiQYf6q",
        "outputId": "f9a34ced-5572-4f70-ed33-07159d8d9b2b",
        "colab": {
          "base_uri": "https://localhost:8080/"
        }
      },
      "source": [
        "# List all files in your Kaggle folder on your google drive.\n",
        "!ls"
      ],
      "execution_count": 7,
      "outputs": [
        {
          "output_type": "stream",
          "name": "stdout",
          "text": [
            "bloomtech-water-pump-challenge.zip  sample_submission.csv  train_labels.csv\n",
            "kaggle.json\t\t\t    test_features.csv\n",
            "new_submission.csv\t\t    train_features.csv\n"
          ]
        }
      ]
    },
    {
      "cell_type": "markdown",
      "metadata": {
        "id": "oCBYPw7kd1AN"
      },
      "source": [
        "# I. Wrangle Data"
      ]
    },
    {
      "cell_type": "code",
      "metadata": {
        "id": "jaXMenXoZ0D6"
      },
      "source": [
        "def wrangle(fm_path, tv_path=None):\n",
        "  if tv_path:\n",
        "    df = pd.merge(pd.read_csv(fm_path, \n",
        "                              na_values=[0, -2.000000e-08],\n",
        "                              parse_dates=['date_recorded']),\n",
        "                  pd.read_csv(tv_path)).set_index('id')\n",
        "  else:\n",
        "    df = pd.read_csv(fm_path, \n",
        "                     na_values=[0, -2.000000e-08],\n",
        "                     parse_dates=['date_recorded'],\n",
        "                     index_col='id')\n",
        "\n",
        "  # Drop constant columns\n",
        "  df.drop(columns=['recorded_by'], inplace=True)\n",
        "\n",
        "  # Create age feature\n",
        "  df['pump_age'] = df['date_recorded'].dt.year - df['construction_year']\n",
        "  df.drop(columns='date_recorded', inplace=True)\n",
        "\n",
        "  # Drop HCCCs\n",
        "  cutoff = 100\n",
        "  drop_cols = [col for col in df.select_dtypes('object').columns\n",
        "              if df[col].nunique() > cutoff]\n",
        "  df.drop(columns=drop_cols, inplace=True)\n",
        "\n",
        "  # Drop duplicate columns\n",
        "  dupe_cols = [col for col in df.head(100).T.duplicated().index # change 15 to 100!!!!\n",
        "               if df.head(100).T.duplicated()[col]]\n",
        "  df.drop(columns=dupe_cols, inplace=True)             \n",
        "\n",
        "  return df\n",
        "\n",
        "df = wrangle(fm_path='train_features.csv',\n",
        "             tv_path='train_labels.csv')\n",
        "\n",
        "X_test = wrangle(fm_path='test_features.csv')"
      ],
      "execution_count": 8,
      "outputs": []
    },
    {
      "cell_type": "code",
      "metadata": {
        "id": "wupyZysm_avz",
        "outputId": "b8dc1c06-ca85-4558-b5a5-709078b5bc12",
        "colab": {
          "base_uri": "https://localhost:8080/"
        }
      },
      "source": [
        "df.shape, X_test.shape"
      ],
      "execution_count": 9,
      "outputs": [
        {
          "output_type": "execute_result",
          "data": {
            "text/plain": [
              "((47519, 31), (11880, 30))"
            ]
          },
          "metadata": {},
          "execution_count": 9
        }
      ]
    },
    {
      "cell_type": "markdown",
      "metadata": {
        "id": "jetWccxMqmzY"
      },
      "source": [
        "# II. Split Data"
      ]
    },
    {
      "cell_type": "markdown",
      "metadata": {
        "id": "y-MPA0qlr-mK"
      },
      "source": [
        "## Split TV from FM"
      ]
    },
    {
      "cell_type": "code",
      "source": [
        "target = 'status_group'\n",
        "y = df[target]\n",
        "X = df.drop(columns = target)"
      ],
      "metadata": {
        "id": "-iN01DozUbyH"
      },
      "execution_count": 10,
      "outputs": []
    },
    {
      "cell_type": "markdown",
      "metadata": {
        "id": "WX9uvMMgs6J_"
      },
      "source": [
        "# III. Establish Baseline\n",
        "\n",
        "This is a **classification** problem, our baseline will be **accuracy**. "
      ]
    },
    {
      "cell_type": "code",
      "source": [
        "y.value_counts(normalize = True).max()"
      ],
      "metadata": {
        "id": "PkUJVqSuULDg",
        "outputId": "c0936539-d6a8-4c67-a756-fd7361a135cb",
        "colab": {
          "base_uri": "https://localhost:8080/"
        }
      },
      "execution_count": 11,
      "outputs": [
        {
          "output_type": "execute_result",
          "data": {
            "text/plain": [
              "0.5429828068772491"
            ]
          },
          "metadata": {},
          "execution_count": 11
        }
      ]
    },
    {
      "cell_type": "markdown",
      "metadata": {
        "id": "MA19NsrFtgTT"
      },
      "source": [
        "# IV. Build Models\n",
        "\n",
        "- `DecisionTreeClassifier`\n",
        "- `RandomForestClassifier`"
      ]
    },
    {
      "cell_type": "code",
      "metadata": {
        "id": "m_ZpJSwObNl_"
      },
      "source": [
        "model_dt = make_pipeline(\n",
        "    OrdinalEncoder(),\n",
        "    SimpleImputer(),\n",
        "    DecisionTreeClassifier(random_state=42))"
      ],
      "execution_count": 12,
      "outputs": []
    },
    {
      "cell_type": "code",
      "metadata": {
        "id": "I4fO6aXEbNiQ"
      },
      "source": [
        "model_rf = make_pipeline(\n",
        "    OrdinalEncoder(),\n",
        "    SimpleImputer(),\n",
        "    RandomForestClassifier(n_estimators =25, random_state=42)\n",
        ");"
      ],
      "execution_count": 13,
      "outputs": []
    },
    {
      "cell_type": "code",
      "source": [
        "from pandas.core.common import random_state\n",
        "#kfold_cv = KFold(n_splits=5, shuffle=True, random_state=42)\n",
        "\n",
        "cv_scores_dt = cross_val_score(model_dt, X, y, cv=5, n_jobs=-1)\n",
        "cv_scores_rf = cross_val_score(model_rf, X, y, cv=5, n_jobs=-1)"
      ],
      "metadata": {
        "id": "JMQhiMQpEFwN"
      },
      "execution_count": 14,
      "outputs": []
    },
    {
      "cell_type": "code",
      "source": [
        "cv_scores_dt"
      ],
      "metadata": {
        "id": "c9Kku7czYPnI",
        "outputId": "60b390c9-d4c7-4546-d85d-977fd8c6dd5d",
        "colab": {
          "base_uri": "https://localhost:8080/"
        }
      },
      "execution_count": 15,
      "outputs": [
        {
          "output_type": "execute_result",
          "data": {
            "text/plain": [
              "array([0.7444234 , 0.75126263, 0.74621212, 0.74863215, 0.7457645 ])"
            ]
          },
          "metadata": {},
          "execution_count": 15
        }
      ]
    },
    {
      "cell_type": "code",
      "source": [
        "cv_scores_rf"
      ],
      "metadata": {
        "id": "OBQDOg8AYT-z",
        "outputId": "a0758fcf-2883-42a0-e082-1428d2ab3155",
        "colab": {
          "base_uri": "https://localhost:8080/"
        }
      },
      "execution_count": 16,
      "outputs": [
        {
          "output_type": "execute_result",
          "data": {
            "text/plain": [
              "array([0.79335017, 0.79692761, 0.79724327, 0.79892677, 0.79438072])"
            ]
          },
          "metadata": {},
          "execution_count": 16
        }
      ]
    },
    {
      "cell_type": "code",
      "source": [],
      "metadata": {
        "id": "9S2e1zlmYYVx"
      },
      "execution_count": 16,
      "outputs": []
    },
    {
      "cell_type": "code",
      "source": [],
      "metadata": {
        "id": "UQR0M1UyYYJ-"
      },
      "execution_count": 16,
      "outputs": []
    },
    {
      "cell_type": "code",
      "source": [],
      "metadata": {
        "id": "3PmkvF-8YXzt"
      },
      "execution_count": 16,
      "outputs": []
    },
    {
      "cell_type": "markdown",
      "metadata": {
        "id": "l96Atv4REyH3"
      },
      "source": [
        "**Check cross-validation scores**\n",
        "\n",
        "![Cross Validation](https://upload.wikimedia.org/wikipedia/commons/4/4b/KfoldCV.gif)"
      ]
    },
    {
      "cell_type": "code",
      "metadata": {
        "id": "vLx-EHNGB-xq",
        "outputId": "c979ca17-a43e-4284-f478-645b7f961afe",
        "colab": {
          "base_uri": "https://localhost:8080/"
        }
      },
      "source": [
        "print('CV score DecisionTreeClassifier')\n",
        "print('Mean CV accuracy score:', cv_scores_dt.mean() )\n",
        "print('STD CV accuracy score:', cv_scores_dt.std())"
      ],
      "execution_count": 17,
      "outputs": [
        {
          "output_type": "stream",
          "name": "stdout",
          "text": [
            "CV score DecisionTreeClassifier\n",
            "Mean CV accuracy score: 0.7472589596905601\n",
            "STD CV accuracy score: 0.0024201115777066104\n"
          ]
        }
      ]
    },
    {
      "cell_type": "code",
      "metadata": {
        "id": "vLIdbPJpCC_S",
        "outputId": "7cc278e4-4cba-4388-c0c8-e963dc2b1938",
        "colab": {
          "base_uri": "https://localhost:8080/"
        }
      },
      "source": [
        "print('CV score RandomForestClassifier')\n",
        "print('Mean CV accuracy score:', cv_scores_rf.mean())\n",
        "print('STD CV accuracy score:', cv_scores_rf.std())"
      ],
      "execution_count": 18,
      "outputs": [
        {
          "output_type": "stream",
          "name": "stdout",
          "text": [
            "CV score RandomForestClassifier\n",
            "Mean CV accuracy score: 0.7961657066650226\n",
            "STD CV accuracy score: 0.0020237843032747736\n"
          ]
        }
      ]
    },
    {
      "cell_type": "markdown",
      "metadata": {
        "id": "TSTF3aOWo-5-"
      },
      "source": [
        "# V. Tune Model"
      ]
    },
    {
      "cell_type": "markdown",
      "metadata": {
        "id": "UcYCO2Cj4ILg"
      },
      "source": [
        "Different hyperparameter values I want to try out :\n",
        "\n",
        "*   Simpleimputer - mean, median - 2 values\n",
        "*   max_depth - range(5,40,5) - 7 values\n",
        "*   n_estimators - range(25,125,25) - 4 values\n",
        "\n",
        "> Total combinations of these hyperparameters = 2 * 7 * 4 = 56\n",
        "\n",
        "Testing out the above hyperparameter combinations with 5-fold Cross Validation will need :\n",
        "\n",
        "> Total number of models to be fit = 2 * 7 * 4 * 5 = 280\n"
      ]
    },
    {
      "cell_type": "code",
      "source": [
        "clf = make_pipeline(\n",
        "    OrdinalEncoder(),\n",
        "    SimpleImputer(),\n",
        "    RandomForestClassifier(random_state=42, n_jobs=-1)\n",
        ")"
      ],
      "metadata": {
        "id": "LgK-doeJWMAE"
      },
      "execution_count": 19,
      "outputs": []
    },
    {
      "cell_type": "code",
      "source": [
        "param_grid = {\n",
        "    'simpleimputer__strategy' :['mean', 'medain'],\n",
        "    'randomforestclassifier__max_depth' :range(5,40,5),\n",
        "    'randomforestclassifier__n_estimators' :range(25,125,25)\n",
        "}"
      ],
      "metadata": {
        "id": "jrMYSoldWL7l"
      },
      "execution_count": 20,
      "outputs": []
    },
    {
      "cell_type": "code",
      "source": [
        "model_rf_gs = GridSearchCV(clf,\n",
        "             param_grid=param_grid,\n",
        "             n_jobs=-1,\n",
        "             cv=5,\n",
        "             verbose=1,\n",
        "             )\n",
        "model_rf_gs.fit(X,y)"
      ],
      "metadata": {
        "id": "02mPoIfYKtZa",
        "outputId": "7a8530f9-dde4-4ba8-b690-1fcdaf3e16ab",
        "colab": {
          "base_uri": "https://localhost:8080/"
        }
      },
      "execution_count": 21,
      "outputs": [
        {
          "output_type": "stream",
          "name": "stdout",
          "text": [
            "Fitting 5 folds for each of 56 candidates, totalling 280 fits\n"
          ]
        },
        {
          "output_type": "stream",
          "name": "stderr",
          "text": [
            "/usr/local/lib/python3.8/dist-packages/sklearn/model_selection/_validation.py:372: FitFailedWarning: \n",
            "140 fits failed out of a total of 280.\n",
            "The score on these train-test partitions for these parameters will be set to nan.\n",
            "If these failures are not expected, you can try to debug them by setting error_score='raise'.\n",
            "\n",
            "Below are more details about the failures:\n",
            "--------------------------------------------------------------------------------\n",
            "140 fits failed with the following error:\n",
            "Traceback (most recent call last):\n",
            "  File \"/usr/local/lib/python3.8/dist-packages/sklearn/model_selection/_validation.py\", line 680, in _fit_and_score\n",
            "    estimator.fit(X_train, y_train, **fit_params)\n",
            "  File \"/usr/local/lib/python3.8/dist-packages/sklearn/pipeline.py\", line 390, in fit\n",
            "    Xt = self._fit(X, y, **fit_params_steps)\n",
            "  File \"/usr/local/lib/python3.8/dist-packages/sklearn/pipeline.py\", line 348, in _fit\n",
            "    X, fitted_transformer = fit_transform_one_cached(\n",
            "  File \"/usr/local/lib/python3.8/dist-packages/joblib/memory.py\", line 349, in __call__\n",
            "    return self.func(*args, **kwargs)\n",
            "  File \"/usr/local/lib/python3.8/dist-packages/sklearn/pipeline.py\", line 893, in _fit_transform_one\n",
            "    res = transformer.fit_transform(X, y, **fit_params)\n",
            "  File \"/usr/local/lib/python3.8/dist-packages/sklearn/base.py\", line 855, in fit_transform\n",
            "    return self.fit(X, y, **fit_params).transform(X)\n",
            "  File \"/usr/local/lib/python3.8/dist-packages/sklearn/impute/_base.py\", line 319, in fit\n",
            "    X = self._validate_input(X, in_fit=True)\n",
            "  File \"/usr/local/lib/python3.8/dist-packages/sklearn/impute/_base.py\", line 244, in _validate_input\n",
            "    raise ValueError(\n",
            "ValueError: Can only use these strategies: ['mean', 'median', 'most_frequent', 'constant']  got strategy=medain\n",
            "\n",
            "  warnings.warn(some_fits_failed_message, FitFailedWarning)\n",
            "/usr/local/lib/python3.8/dist-packages/sklearn/model_selection/_search.py:969: UserWarning: One or more of the test scores are non-finite: [0.72310018        nan 0.72381568        nan 0.72432075        nan\n",
            " 0.72419448        nan 0.75597126        nan 0.75723394        nan\n",
            " 0.75731808        nan 0.75761271        nan 0.79267233        nan\n",
            " 0.79513449        nan 0.79511342        nan 0.79618666        nan\n",
            " 0.80003785        nan 0.80170031        nan 0.8022685         nan\n",
            " 0.80336279        nan 0.7974494         nan 0.80087958        nan\n",
            " 0.8016161         nan 0.80277355        nan 0.79580794        nan\n",
            " 0.79818597        nan 0.79925919        nan 0.80014304        nan\n",
            " 0.79416653        nan 0.79797552        nan 0.79942762        nan\n",
            " 0.80014306        nan]\n",
            "  warnings.warn(\n"
          ]
        },
        {
          "output_type": "execute_result",
          "data": {
            "text/plain": [
              "GridSearchCV(cv=5,\n",
              "             estimator=Pipeline(steps=[('ordinalencoder', OrdinalEncoder()),\n",
              "                                       ('simpleimputer', SimpleImputer()),\n",
              "                                       ('randomforestclassifier',\n",
              "                                        RandomForestClassifier(n_jobs=-1,\n",
              "                                                               random_state=42))]),\n",
              "             n_jobs=-1,\n",
              "             param_grid={'randomforestclassifier__max_depth': range(5, 40, 5),\n",
              "                         'randomforestclassifier__n_estimators': range(25, 125, 25),\n",
              "                         'simpleimputer__strategy': ['mean', 'medain']},\n",
              "             verbose=1)"
            ]
          },
          "metadata": {},
          "execution_count": 21
        }
      ]
    },
    {
      "cell_type": "markdown",
      "metadata": {
        "id": "SRL-I2ensgom"
      },
      "source": [
        "**`GridSearch`:** "
      ]
    },
    {
      "cell_type": "code",
      "source": [
        "model_rf_gs.best_params_"
      ],
      "metadata": {
        "id": "f27tFQRMWARw",
        "outputId": "180d0258-c74a-48ab-c9b0-fa0735e5280a",
        "colab": {
          "base_uri": "https://localhost:8080/"
        }
      },
      "execution_count": 22,
      "outputs": [
        {
          "output_type": "execute_result",
          "data": {
            "text/plain": [
              "{'randomforestclassifier__max_depth': 20,\n",
              " 'randomforestclassifier__n_estimators': 100,\n",
              " 'simpleimputer__strategy': 'mean'}"
            ]
          },
          "metadata": {},
          "execution_count": 22
        }
      ]
    },
    {
      "cell_type": "code",
      "source": [
        "model_rf_gs.best_score_"
      ],
      "metadata": {
        "id": "120X-einnoSz",
        "outputId": "78a530c5-2695-47b5-c0a6-c37b4343dac8",
        "colab": {
          "base_uri": "https://localhost:8080/"
        }
      },
      "execution_count": 23,
      "outputs": [
        {
          "output_type": "execute_result",
          "data": {
            "text/plain": [
              "0.8033627937270207"
            ]
          },
          "metadata": {},
          "execution_count": 23
        }
      ]
    },
    {
      "cell_type": "code",
      "source": [
        "model_rf_gs.best_estimator_"
      ],
      "metadata": {
        "id": "Q8fonLG3nudH",
        "outputId": "cd9d87b9-34a1-4ff8-c612-9a9dbe5ff214",
        "colab": {
          "base_uri": "https://localhost:8080/"
        }
      },
      "execution_count": 24,
      "outputs": [
        {
          "output_type": "execute_result",
          "data": {
            "text/plain": [
              "Pipeline(steps=[('ordinalencoder',\n",
              "                 OrdinalEncoder(cols=['basin', 'region', 'public_meeting',\n",
              "                                      'scheme_management', 'permit',\n",
              "                                      'extraction_type',\n",
              "                                      'extraction_type_group',\n",
              "                                      'extraction_type_class', 'management',\n",
              "                                      'management_group', 'payment',\n",
              "                                      'payment_type', 'water_quality',\n",
              "                                      'quality_group', 'quantity', 'source',\n",
              "                                      'source_type', 'source_class',\n",
              "                                      'waterpoint_type',\n",
              "                                      'waterpoin...\n",
              "communal standpipe multiple    4\n",
              "improved spring                5\n",
              "cattle trough                  6\n",
              "dam                            7\n",
              "NaN                           -2\n",
              "dtype: int64},\n",
              "                                         {'col': 'waterpoint_type_group',\n",
              "                                          'data_type': dtype('O'),\n",
              "                                          'mapping': communal standpipe    1\n",
              "hand pump             2\n",
              "other                 3\n",
              "improved spring       4\n",
              "cattle trough         5\n",
              "dam                   6\n",
              "NaN                  -2\n",
              "dtype: int64}])),\n",
              "                ('simpleimputer', SimpleImputer()),\n",
              "                ('randomforestclassifier',\n",
              "                 RandomForestClassifier(max_depth=20, n_jobs=-1,\n",
              "                                        random_state=42))])"
            ]
          },
          "metadata": {},
          "execution_count": 24
        }
      ]
    },
    {
      "cell_type": "code",
      "source": [
        "model_rf_gs.predict(X_test)"
      ],
      "metadata": {
        "id": "9-cO6fzVn5Lx",
        "outputId": "6f740639-89be-4e25-a509-499e74856c45",
        "colab": {
          "base_uri": "https://localhost:8080/"
        }
      },
      "execution_count": 25,
      "outputs": [
        {
          "output_type": "execute_result",
          "data": {
            "text/plain": [
              "array(['non functional', 'functional', 'functional', ...,\n",
              "       'non functional', 'functional', 'functional'], dtype=object)"
            ]
          },
          "metadata": {},
          "execution_count": 25
        }
      ]
    },
    {
      "cell_type": "markdown",
      "metadata": {
        "id": "UPvNOV6Cw1Zl"
      },
      "source": [
        "**`RandomizedSearchCV`:** "
      ]
    },
    {
      "cell_type": "code",
      "source": [
        "model_rf_rs = RandomizedSearchCV(\n",
        "    clf,\n",
        "    param_distributions = param_grid,\n",
        "    n_jobs=-1,\n",
        "    verbose=-1,\n",
        "    n_iter=7,\n",
        "    cv=5\n",
        ")"
      ],
      "metadata": {
        "id": "WFXI-drCV9LB"
      },
      "execution_count": 26,
      "outputs": []
    },
    {
      "cell_type": "code",
      "source": [
        "model_rf_rs.fit(X,y)"
      ],
      "metadata": {
        "id": "wT5O4MpOV4qj",
        "outputId": "942a53e1-20ac-4d39-ad7c-6a671b40ee88",
        "colab": {
          "base_uri": "https://localhost:8080/"
        }
      },
      "execution_count": 27,
      "outputs": [
        {
          "output_type": "execute_result",
          "data": {
            "text/plain": [
              "RandomizedSearchCV(cv=5,\n",
              "                   estimator=Pipeline(steps=[('ordinalencoder',\n",
              "                                              OrdinalEncoder()),\n",
              "                                             ('simpleimputer', SimpleImputer()),\n",
              "                                             ('randomforestclassifier',\n",
              "                                              RandomForestClassifier(n_jobs=-1,\n",
              "                                                                     random_state=42))]),\n",
              "                   n_iter=7, n_jobs=-1,\n",
              "                   param_distributions={'randomforestclassifier__max_depth': range(5, 40, 5),\n",
              "                                        'randomforestclassifier__n_estimators': range(25, 125, 25),\n",
              "                                        'simpleimputer__strategy': ['mean',\n",
              "                                                                    'medain']},\n",
              "                   verbose=-1)"
            ]
          },
          "metadata": {},
          "execution_count": 27
        }
      ]
    },
    {
      "cell_type": "code",
      "source": [
        "model_rf_rs.best_score_"
      ],
      "metadata": {
        "id": "6P_b_2u1V9II",
        "outputId": "3708cb9a-d9d5-4bc9-869f-426f6d289141",
        "colab": {
          "base_uri": "https://localhost:8080/"
        }
      },
      "execution_count": 31,
      "outputs": [
        {
          "output_type": "execute_result",
          "data": {
            "text/plain": [
              "0.8022684954883997"
            ]
          },
          "metadata": {},
          "execution_count": 31
        }
      ]
    },
    {
      "cell_type": "markdown",
      "metadata": {
        "id": "gdPydrAciFvW"
      },
      "source": [
        "# VI. Communicate Results\n",
        "\n",
        "**Showing Feature Importance**"
      ]
    },
    {
      "cell_type": "markdown",
      "metadata": {
        "id": "orrZCcWqj0Wu"
      },
      "source": [
        "Plot the feature importance for our `RandomForest` model."
      ]
    },
    {
      "cell_type": "code",
      "source": [
        "bestestimator = model_rf_rs.best_estimator_\n",
        "importances = bestestimator.named_steps['randomforestclassifier'].feature_importances_\n",
        "features = X.columns\n",
        "feat_imp = pd.Series(importances, index=features).sort_values()\n",
        "feat_imp.tail(10).plot(kind='barh')\n",
        "plt.xlabel('Reduction in Gini Impurity');"
      ],
      "metadata": {
        "id": "X3QZfcikWWW_",
        "outputId": "e4289c22-9af8-4c06-f7bb-ed6e24aa7364",
        "colab": {
          "base_uri": "https://localhost:8080/",
          "height": 279
        }
      },
      "execution_count": 32,
      "outputs": [
        {
          "output_type": "display_data",
          "data": {
            "text/plain": [
              "<Figure size 432x288 with 1 Axes>"
            ],
            "image/png": "[encoded data removed]"
          },
          "metadata": {
            "needs_background": "light"
          }
        }
      ]
    },
    {
      "cell_type": "markdown",
      "metadata": {
        "id": "hIiBxuSrDPZU"
      },
      "source": [
        "# VII. Make Submission"
      ]
    },
    {
      "cell_type": "code",
      "metadata": {
        "id": "DbEIotkT8eUM"
      },
      "source": [
        "y_pred = model_rf_rs.predict(X_test)"
      ],
      "execution_count": 33,
      "outputs": []
    },
    {
      "cell_type": "code",
      "metadata": {
        "id": "IFL1Zdi88f98"
      },
      "source": [
        "submission = pd.DataFrame({'status_group':y_pred}, index=X_test.index)"
      ],
      "execution_count": 34,
      "outputs": []
    },
    {
      "cell_type": "code",
      "source": [
        "submission"
      ],
      "metadata": {
        "id": "cNjXGaXEM9Po",
        "outputId": "71c3e456-6801-46c4-8e90-9187e39eea52",
        "colab": {
          "base_uri": "https://localhost:8080/",
          "height": 455
        }
      },
      "execution_count": 35,
      "outputs": [
        {
          "output_type": "execute_result",
          "data": {
            "text/plain": [
              "         status_group\n",
              "id                   \n",
              "37098  non functional\n",
              "14530      functional\n",
              "62607      functional\n",
              "46053  non functional\n",
              "47083      functional\n",
              "...               ...\n",
              "26092      functional\n",
              "919    non functional\n",
              "47444  non functional\n",
              "61128      functional\n",
              "8075       functional\n",
              "\n",
              "[11880 rows x 1 columns]"
            ],
            "text/html": [
              "\n",
              "  <div id=\"df-beda9dbb-27ec-4546-b8cf-ef55b7edab49\">\n",
              "    <div class=\"colab-df-container\">\n",
              "      <div>\n",
              "<style scoped>\n",
              "    .dataframe tbody tr th:only-of-type {\n",
              "        vertical-align: middle;\n",
              "    }\n",
              "\n",
              "    .dataframe tbody tr th {\n",
              "        vertical-align: top;\n",
              "    }\n",
              "\n",
              "    .dataframe thead th {\n",
              "        text-align: right;\n",
              "    }\n",
              "</style>\n",
              "<table border=\"1\" class=\"dataframe\">\n",
              "  <thead>\n",
              "    <tr style=\"text-align: right;\">\n",
              "      <th></th>\n",
              "      <th>status_group</th>\n",
              "    </tr>\n",
              "    <tr>\n",
              "      <th>id</th>\n",
              "      <th></th>\n",
              "    </tr>\n",
              "  </thead>\n",
              "  <tbody>\n",
              "    <tr>\n",
              "      <th>37098</th>\n",
              "      <td>non functional</td>\n",
              "    </tr>\n",
              "    <tr>\n",
              "      <th>14530</th>\n",
              "      <td>functional</td>\n",
              "    </tr>\n",
              "    <tr>\n",
              "      <th>62607</th>\n",
              "      <td>functional</td>\n",
              "    </tr>\n",
              "    <tr>\n",
              "      <th>46053</th>\n",
              "      <td>non functional</td>\n",
              "    </tr>\n",
              "    <tr>\n",
              "      <th>47083</th>\n",
              "      <td>functional</td>\n",
              "    </tr>\n",
              "    <tr>\n",
              "      <th>...</th>\n",
              "      <td>...</td>\n",
              "    </tr>\n",
              "    <tr>\n",
              "      <th>26092</th>\n",
              "      <td>functional</td>\n",
              "    </tr>\n",
              "    <tr>\n",
              "      <th>919</th>\n",
              "      <td>non functional</td>\n",
              "    </tr>\n",
              "    <tr>\n",
              "      <th>47444</th>\n",
              "      <td>non functional</td>\n",
              "    </tr>\n",
              "    <tr>\n",
              "      <th>61128</th>\n",
              "      <td>functional</td>\n",
              "    </tr>\n",
              "    <tr>\n",
              "      <th>8075</th>\n",
              "      <td>functional</td>\n",
              "    </tr>\n",
              "  </tbody>\n",
              "</table>\n",
              "<p>11880 rows × 1 columns</p>\n",
              "</div>\n",
              "      <button class=\"colab-df-convert\" onclick=\"convertToInteractive('df-beda9dbb-27ec-4546-b8cf-ef55b7edab49')\"\n",
              "              title=\"Convert this dataframe to an interactive table.\"\n",
              "              style=\"display:none;\">\n",
              "        \n",
              "  <svg xmlns=\"http://www.w3.org/2000/svg\" height=\"24px\"viewBox=\"0 0 24 24\"\n",
              "       width=\"24px\">\n",
              "    <path d=\"M0 0h24v24H0V0z\" fill=\"none\"/>\n",
              "    <path d=\"M18.56 5.44l.94 2.06.94-2.06 2.06-.94-2.06-.94-.94-2.06-.94 2.06-2.06.94zm-11 1L8.5 8.5l.94-2.06 2.06-.94-2.06-.94L8.5 2.5l-.94 2.06-2.06.94zm10 10l.94 2.06.94-2.06 2.06-.94-2.06-.94-.94-2.06-.94 2.06-2.06.94z\"/><path d=\"M17.41 7.96l-1.37-1.37c-.4-.4-.92-.59-1.43-.59-.52 0-1.04.2-1.43.59L10.3 9.45l-7.72 7.72c-.78.78-.78 2.05 0 2.83L4 21.41c.39.39.9.59 1.41.59.51 0 1.02-.2 1.41-.59l7.78-7.78 2.81-2.81c.8-.78.8-2.07 0-2.86zM5.41 20L4 18.59l7.72-7.72 1.47 1.35L5.41 20z\"/>\n",
              "  </svg>\n",
              "      </button>\n",
              "      \n",
              "  <style>\n",
              "    .colab-df-container {\n",
              "      display:flex;\n",
              "      flex-wrap:wrap;\n",
              "      gap: 12px;\n",
              "    }\n",
              "\n",
              "    .colab-df-convert {\n",
              "      background-color: #E8F0FE;\n",
              "      border: none;\n",
              "      border-radius: 50%;\n",
              "      cursor: pointer;\n",
              "      display: none;\n",
              "      fill: #1967D2;\n",
              "      height: 32px;\n",
              "      padding: 0 0 0 0;\n",
              "      width: 32px;\n",
              "    }\n",
              "\n",
              "    .colab-df-convert:hover {\n",
              "      background-color: #E2EBFA;\n",
              "      box-shadow: 0px 1px 2px rgba(60, 64, 67, 0.3), 0px 1px 3px 1px rgba(60, 64, 67, 0.15);\n",
              "      fill: #174EA6;\n",
              "    }\n",
              "\n",
              "    [theme=dark] .colab-df-convert {\n",
              "      background-color: #3B4455;\n",
              "      fill: #D2E3FC;\n",
              "    }\n",
              "\n",
              "    [theme=dark] .colab-df-convert:hover {\n",
              "      background-color: #434B5C;\n",
              "      box-shadow: 0px 1px 3px 1px rgba(0, 0, 0, 0.15);\n",
              "      filter: drop-shadow(0px 1px 2px rgba(0, 0, 0, 0.3));\n",
              "      fill: #FFFFFF;\n",
              "    }\n",
              "  </style>\n",
              "\n",
              "      <script>\n",
              "        const buttonEl =\n",
              "          document.querySelector('#df-beda9dbb-27ec-4546-b8cf-ef55b7edab49 button.colab-df-convert');\n",
              "        buttonEl.style.display =\n",
              "          google.colab.kernel.accessAllowed ? 'block' : 'none';\n",
              "\n",
              "        async function convertToInteractive(key) {\n",
              "          const element = document.querySelector('#df-beda9dbb-27ec-4546-b8cf-ef55b7edab49');\n",
              "          const dataTable =\n",
              "            await google.colab.kernel.invokeFunction('convertToInteractive',\n",
              "                                                     [key], {});\n",
              "          if (!dataTable) return;\n",
              "\n",
              "          const docLinkHtml = 'Like what you see? Visit the ' +\n",
              "            '<a target=\"_blank\" href=https://colab.research.google.com/notebooks/data_table.ipynb>data table notebook</a>'\n",
              "            + ' to learn more about interactive tables.';\n",
              "          element.innerHTML = '';\n",
              "          dataTable['output_type'] = 'display_data';\n",
              "          await google.colab.output.renderOutput(dataTable, element);\n",
              "          const docLink = document.createElement('div');\n",
              "          docLink.innerHTML = docLinkHtml;\n",
              "          element.appendChild(docLink);\n",
              "        }\n",
              "      </script>\n",
              "    </div>\n",
              "  </div>\n",
              "  "
            ]
          },
          "metadata": {},
          "execution_count": 35
        }
      ]
    },
    {
      "cell_type": "code",
      "metadata": {
        "id": "uvrFM81t9Fqv",
        "outputId": "33e0d0f3-44d1-4c77-c24f-4b9ff8abe2e3",
        "colab": {
          "base_uri": "https://localhost:8080/",
          "height": 35
        }
      },
      "source": [
        "pd.Timestamp.now().strftime('%Y-%m-%d_%H%M_')"
      ],
      "execution_count": 36,
      "outputs": [
        {
          "output_type": "execute_result",
          "data": {
            "text/plain": [
              "'2023-01-02_1920_'"
            ],
            "application/vnd.google.colaboratory.intrinsic+json": {
              "type": "string"
            }
          },
          "metadata": {},
          "execution_count": 36
        }
      ]
    },
    {
      "cell_type": "code",
      "metadata": {
        "id": "_sDIlJ1fDPZW"
      },
      "source": [
        "datestamp = pd.Timestamp.now().strftime('%Y-%m-%d_%H%M_') #string from time format\n",
        "submission.to_csv(f'{datestamp}submission.csv') #format string"
      ],
      "execution_count": 37,
      "outputs": []
    },
    {
      "cell_type": "markdown",
      "metadata": {
        "id": "SS6EDRbCbr-F"
      },
      "source": [
        "# VIII. Saving a trained model to reuse it in the future"
      ]
    },
    {
      "cell_type": "code",
      "source": [
        "# Once you have found the best model, you might as well save it and then reload it when you want to test it later\n",
        "\n",
        "# save model\n",
        "import pickle\n",
        "\n",
        "filename = 'model_rf_rs_80'\n",
        "\n",
        "#save your model (it will be stored in your current working directory - download to your computer if GDrive is not mounted)\n",
        "pickle.dump(bestestimator,open(filename,'wb'))\n",
        "\n",
        "#load model\n",
        "model_rf_loaded = pickle.load(open(filename,'rb'))"
      ],
      "metadata": {
        "id": "T1H0NSTQUh-A"
      },
      "execution_count": 38,
      "outputs": []
    }
  ]
}